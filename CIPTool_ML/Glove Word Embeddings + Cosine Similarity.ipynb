{
 "cells": [
  {
   "cell_type": "code",
   "execution_count": 1,
   "metadata": {},
   "outputs": [],
   "source": [
    "ss1 = 'Apple and Banana Republic are american brands.'\n",
    "ss2 = 'Apple and banana are my favorite fruits.'"
   ]
  },
  {
   "cell_type": "code",
   "execution_count": 2,
   "metadata": {},
   "outputs": [
    {
     "name": "stderr",
     "output_type": "stream",
     "text": [
      "[nltk_data] Error loading stopwords: <urlopen error [Errno 11001]\n",
      "[nltk_data]     getaddrinfo failed>\n"
     ]
    },
    {
     "data": {
      "text/plain": [
       "False"
      ]
     },
     "execution_count": 2,
     "metadata": {},
     "output_type": "execute_result"
    }
   ],
   "source": [
    "import nltk\n",
    "nltk.download('stopwords')"
   ]
  },
  {
   "cell_type": "code",
   "execution_count": 3,
   "metadata": {},
   "outputs": [],
   "source": [
    "def cosine_distance_countvectorizer_method(s1, s2):\n",
    "    \n",
    "    # sentences to list\n",
    "    allsentences = [s1 , s2]\n",
    "    \n",
    "    # packages\n",
    "    from sklearn.feature_extraction.text import CountVectorizer\n",
    "    from scipy.spatial import distance\n",
    "    \n",
    "    # text to vector\n",
    "    vectorizer = CountVectorizer()\n",
    "    all_sentences_to_vector = vectorizer.fit_transform(allsentences)\n",
    "    text_to_vector_v1 = all_sentences_to_vector.toarray()[0].tolist()\n",
    "    text_to_vector_v2 = all_sentences_to_vector.toarray()[1].tolist()\n",
    "    \n",
    "    # distance of similarity\n",
    "    cosine = distance.cosine(text_to_vector_v1, text_to_vector_v2)\n",
    "    print('Similarity of two sentences are equal to ',round((1-cosine)*100,2),'%')\n",
    "    return cosine"
   ]
  },
  {
   "cell_type": "code",
   "execution_count": 4,
   "metadata": {},
   "outputs": [
    {
     "name": "stdout",
     "output_type": "stream",
     "text": [
      "Similarity of two sentences are equal to  57.14 %\n"
     ]
    },
    {
     "data": {
      "text/plain": [
       "0.4285714285714285"
      ]
     },
     "execution_count": 4,
     "metadata": {},
     "output_type": "execute_result"
    }
   ],
   "source": [
    "cosine_distance_countvectorizer_method(ss1 , ss2)"
   ]
  },
  {
   "cell_type": "code",
   "execution_count": 5,
   "metadata": {},
   "outputs": [],
   "source": [
    "gloveFile = \"glove.6B.300d.txt\"\n",
    "import numpy as np\n",
    "def loadGloveModel(gloveFile):\n",
    "    print (\"Loading Glove Model\")\n",
    "    with open(gloveFile, encoding=\"utf8\" ) as f:\n",
    "        content = f.readlines()\n",
    "    model = {}\n",
    "    for line in content:\n",
    "        splitLine = line.split()\n",
    "        word = splitLine[0]\n",
    "        embedding = np.array([float(val) for val in splitLine[1:]])\n",
    "        model[word] = embedding\n",
    "    print (\"Done.\",len(model),\" words loaded!\")\n",
    "    return model\n",
    "\n",
    "import re\n",
    "from nltk.corpus import stopwords\n",
    "import pandas as pd\n",
    "\n",
    "def preprocess(raw_text):\n",
    "\n",
    "    # keep only words\n",
    "    letters_only_text = re.sub(\"[^a-zA-Z]\", \" \", raw_text)\n",
    "\n",
    "    # convert to lower case and split \n",
    "    words = letters_only_text.lower().split()\n",
    "\n",
    "    # remove stopwords\n",
    "    stopword_set = set(stopwords.words(\"english\"))\n",
    "    cleaned_words = list(set([w for w in words if w not in stopword_set]))\n",
    "\n",
    "    return cleaned_words\n",
    "\n",
    "def cosine_distance_between_two_words(word1, word2):\n",
    "    import scipy\n",
    "    return (1- scipy.spatial.distance.cosine(model[word1], model[word2]))\n",
    "\n",
    "def calculate_heat_matrix_for_two_sentences(s1,s2):\n",
    "    s1 = preprocess(s1)\n",
    "    s2 = preprocess(s2)\n",
    "    result_list = [[cosine_distance_between_two_words(word1, word2) for word2 in s2] for word1 in s1]\n",
    "    result_df = pd.DataFrame(result_list)\n",
    "    result_df.columns = s2\n",
    "    result_df.index = s1\n",
    "    return result_df\n",
    "\n",
    "def cosine_distance_wordembedding_method(s1, s2):\n",
    "    import scipy\n",
    "    vector_1 = np.mean([model[word] for word in preprocess(s1)],axis=0)\n",
    "    vector_2 = np.mean([model[word] for word in preprocess(s2)],axis=0)\n",
    "    cosine = scipy.spatial.distance.cosine(vector_1, vector_2)\n",
    "#     print(round((1-cosine)*100,2))\n",
    "    return round((1-cosine)*100, 2)\n",
    "\n",
    "def heat_map_matrix_between_two_sentences(s1,s2):\n",
    "    df = calculate_heat_matrix_for_two_sentences(s1,s2)\n",
    "    import seaborn as sns\n",
    "    import matplotlib.pyplot as plt\n",
    "    fig, ax = plt.subplots(figsize=(5,5)) \n",
    "    ax_blue = sns.heatmap(df, cmap=\"YlGnBu\")\n",
    "    # ax_red = sns.heatmap(df)\n",
    "    print(cosine_distance_wordembedding_method(s1, s2))\n",
    "    return ax_blue"
   ]
  },
  {
   "cell_type": "code",
   "execution_count": 6,
   "metadata": {},
   "outputs": [
    {
     "name": "stdout",
     "output_type": "stream",
     "text": [
      "Loading Glove Model\n"
     ]
    },
    {
     "ename": "FileNotFoundError",
     "evalue": "[Errno 2] No such file or directory: 'glove.6B.300d.txt'",
     "output_type": "error",
     "traceback": [
      "\u001b[1;31m---------------------------------------------------------------------------\u001b[0m",
      "\u001b[1;31mFileNotFoundError\u001b[0m                         Traceback (most recent call last)",
      "\u001b[1;32m<ipython-input-6-841ed8713c0a>\u001b[0m in \u001b[0;36m<module>\u001b[1;34m\u001b[0m\n\u001b[0;32m      2\u001b[0m \u001b[0mss2\u001b[0m \u001b[1;33m=\u001b[0m \u001b[1;34m'Apple and Banana Republic are american brands.'\u001b[0m\u001b[1;33m\u001b[0m\u001b[1;33m\u001b[0m\u001b[0m\n\u001b[0;32m      3\u001b[0m \u001b[1;33m\u001b[0m\u001b[0m\n\u001b[1;32m----> 4\u001b[1;33m \u001b[0mmodel\u001b[0m \u001b[1;33m=\u001b[0m \u001b[0mloadGloveModel\u001b[0m\u001b[1;33m(\u001b[0m\u001b[0mgloveFile\u001b[0m\u001b[1;33m)\u001b[0m\u001b[1;33m\u001b[0m\u001b[1;33m\u001b[0m\u001b[0m\n\u001b[0m\u001b[0;32m      5\u001b[0m \u001b[0mprint\u001b[0m\u001b[1;33m(\u001b[0m\u001b[0mcosine_distance_wordembedding_method\u001b[0m\u001b[1;33m(\u001b[0m\u001b[0mss1\u001b[0m\u001b[1;33m,\u001b[0m \u001b[0mss2\u001b[0m\u001b[1;33m)\u001b[0m\u001b[1;33m)\u001b[0m\u001b[1;33m\u001b[0m\u001b[1;33m\u001b[0m\u001b[0m\n",
      "\u001b[1;32m<ipython-input-5-d7a32dabc8b0>\u001b[0m in \u001b[0;36mloadGloveModel\u001b[1;34m(gloveFile)\u001b[0m\n\u001b[0;32m      3\u001b[0m \u001b[1;32mdef\u001b[0m \u001b[0mloadGloveModel\u001b[0m\u001b[1;33m(\u001b[0m\u001b[0mgloveFile\u001b[0m\u001b[1;33m)\u001b[0m\u001b[1;33m:\u001b[0m\u001b[1;33m\u001b[0m\u001b[1;33m\u001b[0m\u001b[0m\n\u001b[0;32m      4\u001b[0m     \u001b[0mprint\u001b[0m \u001b[1;33m(\u001b[0m\u001b[1;34m\"Loading Glove Model\"\u001b[0m\u001b[1;33m)\u001b[0m\u001b[1;33m\u001b[0m\u001b[1;33m\u001b[0m\u001b[0m\n\u001b[1;32m----> 5\u001b[1;33m     \u001b[1;32mwith\u001b[0m \u001b[0mopen\u001b[0m\u001b[1;33m(\u001b[0m\u001b[0mgloveFile\u001b[0m\u001b[1;33m,\u001b[0m \u001b[0mencoding\u001b[0m\u001b[1;33m=\u001b[0m\u001b[1;34m\"utf8\"\u001b[0m \u001b[1;33m)\u001b[0m \u001b[1;32mas\u001b[0m \u001b[0mf\u001b[0m\u001b[1;33m:\u001b[0m\u001b[1;33m\u001b[0m\u001b[1;33m\u001b[0m\u001b[0m\n\u001b[0m\u001b[0;32m      6\u001b[0m         \u001b[0mcontent\u001b[0m \u001b[1;33m=\u001b[0m \u001b[0mf\u001b[0m\u001b[1;33m.\u001b[0m\u001b[0mreadlines\u001b[0m\u001b[1;33m(\u001b[0m\u001b[1;33m)\u001b[0m\u001b[1;33m\u001b[0m\u001b[1;33m\u001b[0m\u001b[0m\n\u001b[0;32m      7\u001b[0m     \u001b[0mmodel\u001b[0m \u001b[1;33m=\u001b[0m \u001b[1;33m{\u001b[0m\u001b[1;33m}\u001b[0m\u001b[1;33m\u001b[0m\u001b[1;33m\u001b[0m\u001b[0m\n",
      "\u001b[1;31mFileNotFoundError\u001b[0m: [Errno 2] No such file or directory: 'glove.6B.300d.txt'"
     ]
    }
   ],
   "source": [
    "ss1 = 'Apple and banana are my favorite fruits.'\n",
    "ss2 = 'Apple and Banana Republic are american brands.'\n",
    "\n",
    "model = loadGloveModel(gloveFile)\n",
    "print(cosine_distance_wordembedding_method(ss1, ss2))"
   ]
  },
  {
   "cell_type": "code",
   "execution_count": 204,
   "metadata": {},
   "outputs": [
    {
     "name": "stdout",
     "output_type": "stream",
     "text": [
      "29.58\n"
     ]
    },
    {
     "data": {
      "text/plain": [
       "<matplotlib.axes._subplots.AxesSubplot at 0x27e1c1196d0>"
      ]
     },
     "execution_count": 204,
     "metadata": {},
     "output_type": "execute_result"
    },
    {
     "data": {
      "image/png": "[encoded data removed]",
      "text/plain": [
       "<Figure size 360x360 with 2 Axes>"
      ]
     },
     "metadata": {
      "needs_background": "light"
     },
     "output_type": "display_data"
    }
   ],
   "source": [
    "ss1 = 'No more (or less) birthday parties'\n",
    "ss2 = 'Language club for beginners'\n",
    "\n",
    "#model = loadGloveModel(gloveFile)\n",
    "heat_map_matrix_between_two_sentences(ss1,ss2)"
   ]
  },
  {
   "cell_type": "code",
   "execution_count": 61,
   "metadata": {},
   "outputs": [],
   "source": [
    "# TEST EFFICIENCY"
   ]
  },
  {
   "cell_type": "code",
   "execution_count": 197,
   "metadata": {},
   "outputs": [
    {
     "data": {
      "text/html": [
       "<div>\n",
       "<style scoped>\n",
       "    .dataframe tbody tr th:only-of-type {\n",
       "        vertical-align: middle;\n",
       "    }\n",
       "\n",
       "    .dataframe tbody tr th {\n",
       "        vertical-align: top;\n",
       "    }\n",
       "\n",
       "    .dataframe thead th {\n",
       "        text-align: right;\n",
       "    }\n",
       "</style>\n",
       "<table border=\"1\" class=\"dataframe\">\n",
       "  <thead>\n",
       "    <tr style=\"text-align: right;\">\n",
       "      <th></th>\n",
       "      <th>Similarity</th>\n",
       "      <th>Sentence 1</th>\n",
       "      <th>Sentence 2</th>\n",
       "    </tr>\n",
       "  </thead>\n",
       "  <tbody>\n",
       "    <tr>\n",
       "      <th>0</th>\n",
       "      <td>4.20</td>\n",
       "      <td>In Nigeria, Chevron has been accused by the Al...</td>\n",
       "      <td>In Nigeria, the whole ijaw indigenous showed C...</td>\n",
       "    </tr>\n",
       "    <tr>\n",
       "      <th>1</th>\n",
       "      <td>4.25</td>\n",
       "      <td>I know that in France they have had whole herd...</td>\n",
       "      <td>I know that in France, the principle of slaugh...</td>\n",
       "    </tr>\n",
       "    <tr>\n",
       "      <th>2</th>\n",
       "      <td>4.80</td>\n",
       "      <td>Unfortunately, the ultimate objective of a Eur...</td>\n",
       "      <td>Unfortunately the final objective of a Europea...</td>\n",
       "    </tr>\n",
       "    <tr>\n",
       "      <th>3</th>\n",
       "      <td>4.80</td>\n",
       "      <td>The right of a government arbitrarily to set a...</td>\n",
       "      <td>The right for a government to draw aside its c...</td>\n",
       "    </tr>\n",
       "    <tr>\n",
       "      <th>4</th>\n",
       "      <td>4.80</td>\n",
       "      <td>The right of a government arbitrarily to set a...</td>\n",
       "      <td>The right for a government to dismiss arbitrar...</td>\n",
       "    </tr>\n",
       "    <tr>\n",
       "      <th>...</th>\n",
       "      <td>...</td>\n",
       "      <td>...</td>\n",
       "      <td>...</td>\n",
       "    </tr>\n",
       "    <tr>\n",
       "      <th>61</th>\n",
       "      <td>2.75</td>\n",
       "      <td>Mr Morse is charged with assault and Mr Darvis...</td>\n",
       "      <td>His partner Bijan Darvish is charged with fili...</td>\n",
       "    </tr>\n",
       "    <tr>\n",
       "      <th>62</th>\n",
       "      <td>3.25</td>\n",
       "      <td>The mock explosion, the first event in the dri...</td>\n",
       "      <td>The mock explosion of a radioactive \"dirty bom...</td>\n",
       "    </tr>\n",
       "    <tr>\n",
       "      <th>63</th>\n",
       "      <td>3.25</td>\n",
       "      <td>The third appointment was to a new job, execut...</td>\n",
       "      <td>Bruce N. Hawthorne, 53, was named executive vi...</td>\n",
       "    </tr>\n",
       "    <tr>\n",
       "      <th>64</th>\n",
       "      <td>2.50</td>\n",
       "      <td>The commission dropped charges that Patton imp...</td>\n",
       "      <td>Patton also appointed Conner to the Kentucky L...</td>\n",
       "    </tr>\n",
       "    <tr>\n",
       "      <th>65</th>\n",
       "      <td>1.20</td>\n",
       "      <td>Revenue rose 3.9 percent, to $1.63 billion fro...</td>\n",
       "      <td>The McLean, Virginia-based company said newspa...</td>\n",
       "    </tr>\n",
       "  </tbody>\n",
       "</table>\n",
       "<p>66 rows × 3 columns</p>\n",
       "</div>"
      ],
      "text/plain": [
       "    Similarity                                         Sentence 1  \\\n",
       "0         4.20  In Nigeria, Chevron has been accused by the Al...   \n",
       "1         4.25  I know that in France they have had whole herd...   \n",
       "2         4.80  Unfortunately, the ultimate objective of a Eur...   \n",
       "3         4.80  The right of a government arbitrarily to set a...   \n",
       "4         4.80  The right of a government arbitrarily to set a...   \n",
       "..         ...                                                ...   \n",
       "61        2.75  Mr Morse is charged with assault and Mr Darvis...   \n",
       "62        3.25  The mock explosion, the first event in the dri...   \n",
       "63        3.25  The third appointment was to a new job, execut...   \n",
       "64        2.50  The commission dropped charges that Patton imp...   \n",
       "65        1.20  Revenue rose 3.9 percent, to $1.63 billion fro...   \n",
       "\n",
       "                                           Sentence 2  \n",
       "0   In Nigeria, the whole ijaw indigenous showed C...  \n",
       "1   I know that in France, the principle of slaugh...  \n",
       "2   Unfortunately the final objective of a Europea...  \n",
       "3   The right for a government to draw aside its c...  \n",
       "4   The right for a government to dismiss arbitrar...  \n",
       "..                                                ...  \n",
       "61  His partner Bijan Darvish is charged with fili...  \n",
       "62  The mock explosion of a radioactive \"dirty bom...  \n",
       "63  Bruce N. Hawthorne, 53, was named executive vi...  \n",
       "64  Patton also appointed Conner to the Kentucky L...  \n",
       "65  The McLean, Virginia-based company said newspa...  \n",
       "\n",
       "[66 rows x 3 columns]"
      ]
     },
     "execution_count": 197,
     "metadata": {},
     "output_type": "execute_result"
    }
   ],
   "source": [
    "import pandas as pd\n",
    "data_frame = pd.read_csv(\"headlines.test.tsv\", sep=\"\\t\")\n",
    "\n",
    "# print(data_frame)\n",
    "# print(data_frame[['Similarity', 'Sentence 1', 'Sentence 2']]) \n",
    "data_frame"
   ]
  },
  {
   "cell_type": "code",
   "execution_count": 198,
   "metadata": {
    "scrolled": false
   },
   "outputs": [
    {
     "name": "stdout",
     "output_type": "stream",
     "text": [
      "SIMILARITIES: T- 84.0  C- 95.88\n",
      "In Nigeria, Chevron has been accused by the All-Ijaw indigenous people of instigating violence against them and actually paying Nigerian soldiers to shoot protesters at the Warri naval base. In Nigeria, the whole ijaw indigenous showed Chevron to encourage the violence against them and of up to pay Nigerian soldiers to shoot the demonstrators at the naval base from Warri.\n",
      "SIMILARITIES: T- 85.0  C- 90.51\n",
      "I know that in France they have had whole herd slaughter and this does not seem to be the best way forward. I know that in France, the principle of slaughter of whole herd has been implemented and that this is not the best way to combat this phenomenon.\n",
      "SIMILARITIES: T- 96.0  C- 95.99\n",
      "Unfortunately, the ultimate objective of a European Constitution would be precisely the opposite, and so, of course, we cannot vote for it. Unfortunately the final objective of a European Constitution would be exactly the opposite and obviously we cannot approve it.\n",
      "SIMILARITIES: T- 96.0  C- 95.48\n",
      "The right of a government arbitrarily to set aside its own constitution is the defining characteristic of a tyranny. The right for a government to draw aside its constitution arbitrarily is the definition characteristic of a tyranny.\n",
      "SIMILARITIES: T- 96.0  C- 92.69\n",
      "The right of a government arbitrarily to set aside its own constitution is the defining characteristic of a tyranny. The right for a government to dismiss arbitrarily its constitution is the definition of a characteristic tyranny.\n",
      "SIMILARITIES: T- 80.0  C- 92.3\n",
      "But other sources close to the sale said Vivendi was keeping the door open to further bids and hoped to see bidders interested in individual assets team up. But other sources close to the sale said Vivendi was keeping the door open for further bids in the next day or two.\n",
      "SIMILARITIES: T- 75.0  C- 90.84\n",
      "Micron has declared its first quarterly profit for three years. Micron's numbers also marked the first quarterly profit in three years for the DRAM manufacturer.\n",
      "SIMILARITIES: T- 56.0  C- 89.41\n",
      "The fines are part of failed Republican efforts to force or entice the Democrats to return. Perry said he backs the Senate's efforts, including the fines, to force the Democrats to return.\n",
      "SIMILARITIES: T- 68.0  C- 93.49\n",
      "The American Anglican Council, which represents Episcopalian conservatives, said it will seek authorization to create a separate group. The American Anglican Council, which represents Episcopalian conservatives, said it will seek authorization to create a separate province in North America because of last week's actions.\n",
      "SIMILARITIES: T- 26.660000000000004  C- 87.53\n",
      "Amgen shares gained 93 cents, or 1.45 percent, to $65.05 in afternoon trading on Nasdaq. Shares of Allergan were up 14 cents at $78.40 in late trading on the New York Stock Exchange.\n",
      "SIMILARITIES: T- 92.0  C- 87.59\n",
      "U.S. prosecutors have arrested more than 130 individuals and have seized more than $17 million in a continuing crackdown on Internet fraud and abuse. More than 130 people have been arrested and $17 million worth of property seized in an Internet fraud sweep announced Friday by three U.S. government agencies.\n",
      "SIMILARITIES: T- 76.0  C- 91.92\n",
      "Chavez said investigators feel confident they've got \"at least one of the fires resolved in that regard.\" Albuquerque Mayor Martin Chavez said investigators felt confident that with the arrests they had \"at least one of the fires resolved.\"\n",
      "SIMILARITIES: T- 84.0  C- 94.15\n",
      "Authorities said the scientist properly quarantined himself at home after he developed SARS symptoms Dec. 10. The scientist also quarantined himself at home as soon as he developed SARS symptoms, officials said.\n",
      "SIMILARITIES: T- 88.0  C- 93.79\n",
      "The man accused of using fake grenades to commandeer a Cuban plane that landed in Key West in April was sentenced Friday to 20 years in prison. A Cuban architect was sentenced to 20 years in prison Friday for using two fake grenades to hijack a passenger plane from Cuba to Florida in April.\n",
      "SIMILARITIES: T- 84.0  C- 94.25\n",
      "Jim Williams, director of the US-VISIT project, said that by the middle of November, many arriving passengers in Atlanta will be fingerprinted and photographed. Jim Williams, director of the US-VISIT project, said that by the middle of November, inspectors will be fingerprinting and photographing many foreign passengers arriving in Atlanta.\n",
      "SIMILARITIES: T- 100.0  C- 98.31\n",
      "The Episcopal Church ''is alienating itself from the Anglican Communion,'' said the Very Rev. Peter Karanja, provost of the All Saints Cathedral, in Nairobi. In Nairobi, the provost of All Saints Cathedral, the Very Reverend Peter Karanja, said the US Episcopal Church was alienating itself from the Anglican Communion.\n",
      "SIMILARITIES: T- 100.0  C- 93.07\n",
      "Counties with population declines will be Vermillion, Posey and Madison. Vermillion, Posey and Madison County populations will decline.\n",
      "SIMILARITIES: T- 68.0  C- 92.36\n",
      "Swartz, indicted in February, had argued that New Hampshire was the wrong place to charge him. Swartz had sought to have the charges dismissed, saying New Hampshire was the wrong place to charge him.\n",
      "SIMILARITIES: T- 100.0  C- 90.56\n",
      "The last time the survey was conducted, in 1995, those numbers matched. In 1995, the last survey, those numbers were equal.\n",
      "SIMILARITIES: T- 80.0  C- 85.9\n",
      "Higher courts have ruled that the tablets broke the constitutional separation of church and state. The federal courts have ruled that the monument violates the constitutional ban against state-established religion.\n",
      "SIMILARITIES: T- 64.0  C- 81.16\n",
      "They were at Raffles Hospital over the weekend for further evaluation. They underwent more tests over the weekend, and are now warded at Raffles Hospital.\n",
      "SIMILARITIES: T- 100.0  C- 97.49\n",
      "When the bomb exploded at the Casa de Espana, customers were eating dinner and playing bingo. At the Casa de Espana, customers were eating dinner and playing bingo when a bomb went off.\n",
      "SIMILARITIES: T- 88.0  C- 89.43\n",
      "Plofsky said the commission won't investigate because the three-year statute of limitations has expired. The panel will not begin a formal investigation because the statute of limitations has expired, Plofsky said.\n",
      "SIMILARITIES: T- 72.0  C- 82.23\n",
      "In two weeks, he'll probably send out Peace Rules in the Preakness. Frankel said Peace Rules will run in the Preakness Stakes on May 17.\n",
      "SIMILARITIES: T- 72.0  C- 89.21\n",
      "If convicted of the spying charges, he could face the death penalty. The charges of espionage and aiding the enemy can carry the death penalty.\n",
      "SIMILARITIES: T- 64.0  C- 85.05\n",
      "Entrenched interests are positioning themselves to control the network's chokepoints and they are lobbying the FCC to aid and abet them. It may be dying because entrenched interests are positioning themselves to control the Internet's choke-points and they are lobbying the FCC to aid and abet them.\"\n",
      "SIMILARITIES: T- 76.0  C- 90.35\n",
      "But church members and observers say they expect that the decision could be problematic for many Episcopalians. But church members and observers say they anticipate that the decision here could pose doctrinal problems for some Episcopalians who believe the Bible prohibits homosexuality.\n",
      "SIMILARITIES: T- 84.0  C- 73.87\n",
      "Squyres is principal investigator for the Athena payload - a collection of science instruments carted by each rover. Steve Squyres, a Cornell University scientist, is principal investigator for the missions' science instruments.\n",
      "SIMILARITIES: T- 60.0  C- 98.4\n",
      "The military said it had killed 12 rebels and captured nine in the campaign so far, for the loss of six soldiers wounded. The military said it had killed 16 rebels and captured nine in the campaign so far, with one soldier killed and six wounded.\n",
      "SIMILARITIES: T- 72.0  C- 87.26\n",
      "The new sensor -- dubbed CANARY for ''cellular analysis and notification of antigen risks and yields'' -- hijacks this natural process with two important changes. The team has named the sensor Canary, for cellular analysis and notification of antigen risks and yields.\n",
      "SIMILARITIES: T- 60.0  C- 79.66\n",
      "One, Fort Carson-based Sgt. Ernest Bucklew, 33, had been on his way home to attend his mother's funeral in Pennsylvania. Sgt. Ernest Bucklew, 33, was coming home from Iraq to bury his mother in Pennsylvania.\n",
      "SIMILARITIES: T- 60.0  C- 82.1\n",
      "Police launched an international hunt for Shevaun Pennington after she ran away with 31-year-old Toby Studabaker Saturday. Shevaun Pennington disappeared on Saturday morning after arranging to meet 31-year-old Toby Studabaker.\n",
      "SIMILARITIES: T- 96.0  C- 97.81\n",
      "Lawyers and others familiar with the federal investigation say it remains focused on Campbell, though prosecutors declined to discuss the probe. While federal prosecutors refuse to discuss the investigation, lawyers and others familiar with it say it remains focused on Campbell.\n",
      "SIMILARITIES: T- 50.0  C- 94.13\n",
      "The Dow Jones industrial average .DJI was off 58.69 points, or 0.64 percent, at 9,137.86. The blue-chip Dow Jones industrial average .DJI fell 86.56 points, or 0.94 percent, to 9,109.99, after giving up more than 1 percent earlier.\n",
      "SIMILARITIES: T- 45.0  C- 75.49\n",
      "Peace Rules defeated Funny Cide in the Louisiana Derby. But neither he nor Peace Rules could keep Funny Cide from drawing away.\n",
      "SIMILARITIES: T- 70.0  C- 92.74\n",
      "Waksal has pleaded guilty to securities fraud and is to be sentenced next week. Waksal pleaded guilty to insider trading charges last year, and he is scheduled to be sentenced June 10.\n",
      "SIMILARITIES: T- 70.0  C- 95.3\n",
      "He allowed two runs in seven innings and struck out six. Zambrano pitched seven innings and allowed two runs on five hits and four walks.\n",
      "SIMILARITIES: T- 60.0  C- 81.29\n",
      "Still, he said, \"I'm absolutely confident we're going to have a bill.\" I'm absolutely confident we're going to have a bill, Frist, R-Tenn., said Thursday.\n",
      "SIMILARITIES: T- 60.0  C- 88.93\n",
      "Boeing said the final agreement is expected to be signed during the next few weeks. The Korean Air deal is expected to be finalized \"in the next several weeks,\" Boeing spokesman Bob Saling said.\n",
      "SIMILARITIES: T- 73.34  C- 92.26\n",
      "Shares in EDS closed on Thursday at $18.51, a gain of 6 cents. Shares of EDS closed Thursday at $18.51, up 6 cents on the New York Stock Exchange.\n",
      "SIMILARITIES: T- 33.339999999999996  C- 86.86\n",
      "Nationally, the federal Centers for Disease Control and Prevention recorded 4,156 cases of West Nile, including 284 deaths. There were 293 human cases of West Nile in Indiana in 2002, including 11 deaths statewide.\n",
      "SIMILARITIES: T- 72.0  C- 91.62\n",
      "A divided Supreme Court ruled Monday that Congress can force the nation's public libraries to equip computers with anti-pornography filters. The Supreme Court said Monday the government can require public libraries to equip computers with anti-pornography filters, rejecting librarians' complaints that the law amounts to censorship.\n",
      "SIMILARITIES: T- 76.0  C- 89.59\n",
      "The weakness exists in the way that VBA looks at the properties of documents passed to it when the document is opened by a host application. The vulnerability exists in the way Microsoft's Visual Basic for Applications checks document properties passed to it when a document is opened.\n",
      "SIMILARITIES: T- 68.0  C- 90.36\n",
      "Of 24 million phoned-in votes, 50.28 percent were for Studdard, putting him 130,000 votes ahead of Aiken. Of the 24 million phone votes cast, Studdard was only 130,000 votes ahead of Aiken.\n",
      "SIMILARITIES: T- 76.0  C- 94.64\n",
      "However, we have decided to opt for the European consortium's engine as the best overall solution and due to the substantial price efforts made\". However, we have decided to opt for the European consortium's engine as the best overall solution.\"\n",
      "SIMILARITIES: T- 56.0  C- 84.44\n",
      "The Food and Drug Administration rejected ImClone's 2001 application to sell Erbitux, citing shoddy research. The U.S. Food and Drug Administration rejected ImClone's original application in December 2001, saying the trial had been sloppily conducted.\n",
      "SIMILARITIES: T- 75.0  C- 94.87\n",
      "Critics say the law violates civil liberties, something House Judiciary Committee Chairman James Sensenbrenner, R-Wis., says he is sensitive to. House Judiciary Committee Chairman James Sensenbrenner, R-Wis., says he is sensitive to civil liberties complaints.\n",
      "SIMILARITIES: T- 88.0  C- 96.38\n",
      "The Dodgers won their sixth consecutive game their longest win streak since 2001 as they edged Colorado, 3-2, Wednesday in front of a crowd of 25,332 at Dodger Stadium. The Dodgers won their sixth consecutive game and seventh in their last nine as they beat Colorado 3-2 on Wednesday in front of a crowd of 25,332 at Dodger Stadium.\n",
      "SIMILARITIES: T- 75.0  C- 95.37\n",
      "So far, they have searched Pennsylvania, Ohio, Michigan, Illinois and Indiana, authorities in those state said. So far, authorities also have searched areas in Pennsylvania, Ohio, Indiana, and Michigan.\n",
      "SIMILARITIES: T- 55.0  C- 99.05\n",
      "The 30-year bond US30YT=RR firmed 31/32, taking its yield to 4.16 percent -- another record low -- from 4.22 percent. The 30-year bond <US30YT=RR> firmed 24/32, taking its yield to 4.18 percent, after hitting another record low of 4.16 percent.\n",
      "SIMILARITIES: T- 75.0  C- 93.6\n",
      "On Thursday, a Washington Post article argued that a 50 basis point cut from the Fed was more likely, contrary to the Wall Street Journal's line. On Thursday, a Post article argued that a 50 basis point cut from the Fed was more likely.\n",
      "SIMILARITIES: T- 45.0  C- 87.66\n",
      "Mr. Heatley, who suffered a broken jaw and torn knee ligaments, faces several charges. Heatley underwent surgery Saturday for a broken jaw and an MRI found two torn ligaments in his right knee.\n",
      "SIMILARITIES: T- 76.0  C- 92.36\n",
      "Lay had argued that handing over the documents would be a violation of his Fifth Amendment rights against self-incrimination. Lay had refused to turn over the papers, asserting his Fifth Amendment right against self-incrimination.\n",
      "SIMILARITIES: T- 64.0  C- 78.44\n",
      "Strayhorn said it was the first time in Texas history a comptroller had not certified the appropriations act. In a news release Thursday, Strayhorn said this was the first time a comptroller rejected a budget.\n",
      "SIMILARITIES: T- 76.0  C- 88.76\n",
      "Excluding the charges, analysts, on average, expected a loss of 11 cents a share. Analysts polled by Thomson Financial First Call had been expected to see a loss of about 11 cents a share from continuing operations.\n",
      "SIMILARITIES: T- 96.0  C- 90.87\n",
      "Security experts are warning that a new mass-mailing worm is spreading widely across the Internet, sometimes posing as e-mail from the Microsoft founder. A new worm has been spreading rapidly across the Internet, sometimes pretending to be an e-mail from Microsoft Chairman Bill Gates, antivirus vendors said Monday..\n",
      "SIMILARITIES: T- 100.0  C- 90.42\n",
      "Approval of the Minutes of the previous sitting Approval of the Minutes of the previous session  \n",
      "SIMILARITIES: T- 96.0  C- 86.54\n",
      "(Parliament accepted the oral amendment) (The House accepts the oral amendment)\n",
      "SIMILARITIES: T- 56.0  C- 78.93\n",
      "It estimated on Thursday it has a 51 percent market share in Europe. Boston Scientific said it has gained 51 percent of the coated-stent market in Europe.\n",
      "SIMILARITIES: T- 96.0  C- 98.94\n",
      "The Senate Banking Committee is scheduled to hold a hearing on Tuesday where Donaldson is scheduled to testify on hedge and mutual funds. The Senate Banking Committee is scheduled to hold a hearing on Tuesday, when Donaldson will be questioned about hedge and mutual funds.\n",
      "SIMILARITIES: T- 55.0  C- 81.86\n",
      "These men \"are entitled to respect for their private lives,\" Kennedy said. The petitioners are entitled to respect for their private lives.\n",
      "SIMILARITIES: T- 55.0  C- 85.43\n",
      "Mr Morse is charged with assault and Mr Darvish is charged with filing a false report. His partner Bijan Darvish is charged with filing a false police report.\n",
      "SIMILARITIES: T- 65.0  C- 91.52\n",
      "The mock explosion, the first event in the drill, occurred in a car in industrial south Seattle. The mock explosion of a radioactive \"dirty bomb,\" the first event in the weeklong drill, occurred on several acres in the south Seattle industrial area.\n",
      "SIMILARITIES: T- 65.0  C- 90.17\n",
      "The third appointment was to a new job, executive vice president and chief staff officer. Bruce N. Hawthorne, 53, was named executive vice president and chief staff officer.\n",
      "SIMILARITIES: T- 50.0  C- 92.58\n",
      "The commission dropped charges that Patton improperly appointed Conner to the Kentucky Lottery Board and that he improperly appointed Conner's then-husband, Seth, to the Agriculture Development Board. Patton also appointed Conner to the Kentucky Lottery Board and appointed Seth Conner to the Agriculture Development Board, the commission says.\n",
      "SIMILARITIES: T- 24.0  C- 81.67\n",
      "Revenue rose 3.9 percent, to $1.63 billion from $1.57 billion. The McLean, Virginia-based company said newspaper revenue increased 5 percent to $1.46 billion.\n"
     ]
    }
   ],
   "source": [
    "np_similarity_array1 = []\n",
    "np_similarity_array2 = []\n",
    "\n",
    "for index, row in data_frame.iterrows():\n",
    "    cosine_similarity = cosine_distance_wordembedding_method(row['Sentence 1'], row['Sentence 2'])\n",
    "    np_similarity_array1.append(row['Similarity'] * 20)\n",
    "    np_similarity_array2.append(cosine_similarity)\n",
    "    print('SIMILARITIES: T-', row['Similarity'] * 20, ' C-', cosine_similarity)\n",
    "    print(row['Sentence 1'], row['Sentence 2'])"
   ]
  },
  {
   "cell_type": "code",
   "execution_count": 207,
   "metadata": {},
   "outputs": [
    {
     "data": {
      "text/plain": [
       "555.1939954545455"
      ]
     },
     "execution_count": 207,
     "metadata": {},
     "output_type": "execute_result"
    }
   ],
   "source": [
    "from sklearn.metrics import mean_squared_error\n",
    "\n",
    "mean_squared_error(np_similarity_array1, np_similarity_array2)"
   ]
  },
  {
   "cell_type": "code",
   "execution_count": 208,
   "metadata": {},
   "outputs": [
    {
     "data": {
      "text/plain": [
       "60.87"
      ]
     },
     "execution_count": 208,
     "metadata": {},
     "output_type": "execute_result"
    }
   ],
   "source": [
    "from sklearn.metrics import max_error\n",
    "max_error(np_similarity_array1, np_similarity_array2)"
   ]
  },
  {
   "cell_type": "code",
   "execution_count": 209,
   "metadata": {},
   "outputs": [
    {
     "data": {
      "text/plain": [
       "-0.7387558583174971"
      ]
     },
     "execution_count": 209,
     "metadata": {},
     "output_type": "execute_result"
    }
   ],
   "source": [
    "from sklearn.metrics import r2_score\n",
    "\n",
    "r2_score(np_similarity_array1, np_similarity_array2)"
   ]
  },
  {
   "cell_type": "code",
   "execution_count": null,
   "metadata": {},
   "outputs": [],
   "source": []
  }
 ],
 "metadata": {
  "kernelspec": {
   "display_name": "Python 3",
   "language": "python",
   "name": "python3"
  },
  "language_info": {
   "codemirror_mode": {
    "name": "ipython",
    "version": 3
   },
   "file_extension": ".py",
   "mimetype": "text/x-python",
   "name": "python",
   "nbconvert_exporter": "python",
   "pygments_lexer": "ipython3",
   "version": "3.9.0"
  }
 },
 "nbformat": 4,
 "nbformat_minor": 4
}
