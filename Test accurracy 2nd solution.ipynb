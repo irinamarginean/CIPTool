{
 "cells": [
  {
   "cell_type": "code",
   "execution_count": 2,
   "metadata": {},
   "outputs": [],
   "source": [
    "# TEST ACCURACY"
   ]
  },
  {
   "cell_type": "code",
   "execution_count": 3,
   "metadata": {},
   "outputs": [
    {
     "data": {
      "text/html": [
       "<div>\n",
       "<style scoped>\n",
       "    .dataframe tbody tr th:only-of-type {\n",
       "        vertical-align: middle;\n",
       "    }\n",
       "\n",
       "    .dataframe tbody tr th {\n",
       "        vertical-align: top;\n",
       "    }\n",
       "\n",
       "    .dataframe thead th {\n",
       "        text-align: right;\n",
       "    }\n",
       "</style>\n",
       "<table border=\"1\" class=\"dataframe\">\n",
       "  <thead>\n",
       "    <tr style=\"text-align: right;\">\n",
       "      <th></th>\n",
       "      <th>Similarity</th>\n",
       "      <th>Sentence 1</th>\n",
       "      <th>Sentence 2</th>\n",
       "    </tr>\n",
       "  </thead>\n",
       "  <tbody>\n",
       "    <tr>\n",
       "      <th>0</th>\n",
       "      <td>4.20</td>\n",
       "      <td>In Nigeria, Chevron has been accused by the Al...</td>\n",
       "      <td>In Nigeria, the whole ijaw indigenous showed C...</td>\n",
       "    </tr>\n",
       "    <tr>\n",
       "      <th>1</th>\n",
       "      <td>4.25</td>\n",
       "      <td>I know that in France they have had whole herd...</td>\n",
       "      <td>I know that in France, the principle of slaugh...</td>\n",
       "    </tr>\n",
       "    <tr>\n",
       "      <th>2</th>\n",
       "      <td>4.80</td>\n",
       "      <td>Unfortunately, the ultimate objective of a Eur...</td>\n",
       "      <td>Unfortunately the final objective of a Europea...</td>\n",
       "    </tr>\n",
       "    <tr>\n",
       "      <th>3</th>\n",
       "      <td>4.80</td>\n",
       "      <td>The right of a government arbitrarily to set a...</td>\n",
       "      <td>The right for a government to draw aside its c...</td>\n",
       "    </tr>\n",
       "    <tr>\n",
       "      <th>4</th>\n",
       "      <td>4.80</td>\n",
       "      <td>The right of a government arbitrarily to set a...</td>\n",
       "      <td>The right for a government to dismiss arbitrar...</td>\n",
       "    </tr>\n",
       "    <tr>\n",
       "      <th>...</th>\n",
       "      <td>...</td>\n",
       "      <td>...</td>\n",
       "      <td>...</td>\n",
       "    </tr>\n",
       "    <tr>\n",
       "      <th>61</th>\n",
       "      <td>2.75</td>\n",
       "      <td>Mr Morse is charged with assault and Mr Darvis...</td>\n",
       "      <td>His partner Bijan Darvish is charged with fili...</td>\n",
       "    </tr>\n",
       "    <tr>\n",
       "      <th>62</th>\n",
       "      <td>3.25</td>\n",
       "      <td>The mock explosion, the first event in the dri...</td>\n",
       "      <td>The mock explosion of a radioactive \"dirty bom...</td>\n",
       "    </tr>\n",
       "    <tr>\n",
       "      <th>63</th>\n",
       "      <td>3.25</td>\n",
       "      <td>The third appointment was to a new job, execut...</td>\n",
       "      <td>Bruce N. Hawthorne, 53, was named executive vi...</td>\n",
       "    </tr>\n",
       "    <tr>\n",
       "      <th>64</th>\n",
       "      <td>2.50</td>\n",
       "      <td>The commission dropped charges that Patton imp...</td>\n",
       "      <td>Patton also appointed Conner to the Kentucky L...</td>\n",
       "    </tr>\n",
       "    <tr>\n",
       "      <th>65</th>\n",
       "      <td>1.20</td>\n",
       "      <td>Revenue rose 3.9 percent, to $1.63 billion fro...</td>\n",
       "      <td>The McLean, Virginia-based company said newspa...</td>\n",
       "    </tr>\n",
       "  </tbody>\n",
       "</table>\n",
       "<p>66 rows × 3 columns</p>\n",
       "</div>"
      ],
      "text/plain": [
       "    Similarity                                         Sentence 1  \\\n",
       "0         4.20  In Nigeria, Chevron has been accused by the Al...   \n",
       "1         4.25  I know that in France they have had whole herd...   \n",
       "2         4.80  Unfortunately, the ultimate objective of a Eur...   \n",
       "3         4.80  The right of a government arbitrarily to set a...   \n",
       "4         4.80  The right of a government arbitrarily to set a...   \n",
       "..         ...                                                ...   \n",
       "61        2.75  Mr Morse is charged with assault and Mr Darvis...   \n",
       "62        3.25  The mock explosion, the first event in the dri...   \n",
       "63        3.25  The third appointment was to a new job, execut...   \n",
       "64        2.50  The commission dropped charges that Patton imp...   \n",
       "65        1.20  Revenue rose 3.9 percent, to $1.63 billion fro...   \n",
       "\n",
       "                                           Sentence 2  \n",
       "0   In Nigeria, the whole ijaw indigenous showed C...  \n",
       "1   I know that in France, the principle of slaugh...  \n",
       "2   Unfortunately the final objective of a Europea...  \n",
       "3   The right for a government to draw aside its c...  \n",
       "4   The right for a government to dismiss arbitrar...  \n",
       "..                                                ...  \n",
       "61  His partner Bijan Darvish is charged with fili...  \n",
       "62  The mock explosion of a radioactive \"dirty bom...  \n",
       "63  Bruce N. Hawthorne, 53, was named executive vi...  \n",
       "64  Patton also appointed Conner to the Kentucky L...  \n",
       "65  The McLean, Virginia-based company said newspa...  \n",
       "\n",
       "[66 rows x 3 columns]"
      ]
     },
     "execution_count": 3,
     "metadata": {},
     "output_type": "execute_result"
    }
   ],
   "source": [
    "import pandas as pd\n",
    "data_frame = pd.read_csv(\"headlines.test.tsv\", sep=\"\\t\")\n",
    "\n",
    "data_frame"
   ]
  },
  {
   "cell_type": "code",
   "execution_count": 67,
   "metadata": {},
   "outputs": [
    {
     "name": "stdout",
     "output_type": "stream",
     "text": [
      "['In Nigeria, Chevron has been accused by the All-Ijaw indigenous people of instigating violence against them and actually paying Nigerian soldiers to shoot protesters at the Warri naval base.', 'I know that in France they have had whole herd slaughter and this does not seem to be the best way forward.', 'Unfortunately, the ultimate objective of a European Constitution would be precisely the opposite, and so, of course, we cannot vote for it.', 'The right of a government arbitrarily to set aside its own constitution is the defining characteristic of a tyranny.', 'The right of a government arbitrarily to set aside its own constitution is the defining characteristic of a tyranny.', 'But other sources close to the sale said Vivendi was keeping the door open to further bids and hoped to see bidders interested in individual assets team up.', 'Micron has declared its first quarterly profit for three years.', 'The fines are part of failed Republican efforts to force or entice the Democrats to return.', 'The American Anglican Council, which represents Episcopalian conservatives, said it will seek authorization to create a separate group.', 'Amgen shares gained 93 cents, or 1.45 percent, to $65.05 in afternoon trading on Nasdaq.', 'U.S. prosecutors have arrested more than 130 individuals and have seized more than $17 million in a continuing crackdown on Internet fraud and abuse.', 'Chavez said investigators feel confident they\\'ve got \"at least one of the fires resolved in that regard.\"', 'Authorities said the scientist properly quarantined himself at home after he developed SARS symptoms Dec. 10.', 'The man accused of using fake grenades to commandeer a Cuban plane that landed in Key West in April was sentenced Friday to 20 years in prison.', 'Jim Williams, director of the US-VISIT project, said that by the middle of November, many arriving passengers in Atlanta will be fingerprinted and photographed.', \"The Episcopal Church ''is alienating itself from the Anglican Communion,'' said the Very Rev.\", 'Peter Karanja, provost of the All Saints Cathedral, in Nairobi.', 'Counties with population declines will be Vermillion, Posey and Madison.', 'Swartz, indicted in February, had argued that New Hampshire was the wrong place to charge him.', 'The last time the survey was conducted, in 1995, those numbers matched.', 'Higher courts have ruled that the tablets broke the constitutional separation of church and state.', 'They were at Raffles Hospital over the weekend for further evaluation.', 'When the bomb exploded at the Casa de Espana, customers were eating dinner and playing bingo.', \"Plofsky said the commission won't investigate because the three-year statute of limitations has expired.\", \"In two weeks, he'll probably send out Peace Rules in the Preakness.\", 'If convicted of the spying charges, he could face the death penalty.', \"Entrenched interests are positioning themselves to control the network's chokepoints and they are lobbying the FCC to aid and abet them.\", 'But church members and observers say they expect that the decision could be problematic for many Episcopalians.', 'Squyres is principal investigator for the Athena payload - a collection of science instruments carted by each rover.', 'The military said it had killed 12 rebels and captured nine in the campaign so far, for the loss of six soldiers wounded.', \"The new sensor -- dubbed CANARY for ''cellular analysis and notification of antigen risks and yields'' -- hijacks this natural process with two important changes.\", 'One, Fort Carson-based Sgt.', \"Ernest Bucklew, 33, had been on his way home to attend his mother's funeral in Pennsylvania.\", 'Police launched an international hunt for Shevaun Pennington after she ran away with 31-year-old Toby Studabaker Saturday.', 'Lawyers and others familiar with the federal investigation say it remains focused on Campbell, though prosecutors declined to discuss the probe.', 'The Dow Jones industrial average .DJI was off 58.69 points, or 0.64 percent, at 9,137.86.', 'Peace Rules defeated Funny Cide in the Louisiana Derby.', 'Waksal has pleaded guilty to securities fraud and is to be sentenced next week.', 'He allowed two runs in seven innings and struck out six.', 'Still, he said, \"I\\'m absolutely confident we\\'re going to have a bill.\"', 'Boeing said the final agreement is expected to be signed during the next few weeks.', 'Shares in EDS closed on Thursday at $18.51, a gain of 6 cents.', 'Nationally, the federal Centers for Disease Control and Prevention recorded 4,156 cases of West Nile, including 284 deaths.', \"A divided Supreme Court ruled Monday that Congress can force the nation's public libraries to equip computers with anti-pornography filters.\", 'The weakness exists in the way that VBA looks at the properties of documents passed to it when the document is opened by a host application.', 'Of 24 million phoned-in votes, 50.28 percent were for Studdard, putting him 130,000 votes ahead of Aiken.', 'However, we have decided to opt for the European consortium\\'s engine as the best overall solution and due to the substantial price efforts made\".', \"The Food and Drug Administration rejected ImClone's 2001 application to sell Erbitux, citing shoddy research.\", 'Critics say the law violates civil liberties, something House Judiciary Committee Chairman James Sensenbrenner, R-Wis., says he is sensitive to.', 'The Dodgers won their sixth consecutive game their longest win streak since 2001 as they edged Colorado, 3-2, Wednesday in front of a crowd of 25,332 at Dodger Stadium.', 'So far, they have searched Pennsylvania, Ohio, Michigan, Illinois and Indiana, authorities in those state said.', 'The 30-year bond US30YT=RR firmed 31/32, taking its yield to 4.16 percent -- another record low -- from 4.22 percent.', \"On Thursday, a Washington Post article argued that a 50 basis point cut from the Fed was more likely, contrary to the Wall Street Journal's line.\", 'Mr. Heatley, who suffered a broken jaw and torn knee ligaments, faces several charges.', 'Lay had argued that handing over the documents would be a violation of his Fifth Amendment rights against self-incrimination.', 'Strayhorn said it was the first time in Texas history a comptroller had not certified the appropriations act.', 'Excluding the charges, analysts, on average, expected a loss of 11 cents a share.', 'Security experts are warning that a new mass-mailing worm is spreading widely across the Internet, sometimes posing as e-mail from the Microsoft founder.', 'Approval of the Minutes of the previous sitting', '(Parliament accepted the oral amendment)', 'It estimated on Thursday it has a 51 percent market share in Europe.', 'The Senate Banking Committee is scheduled to hold a hearing on Tuesday where Donaldson is scheduled to testify on hedge and mutual funds.', 'These men \"are entitled to respect for their private lives,\" Kennedy said.', 'Mr Morse is charged with assault and Mr Darvish is charged with filing a false report.', 'The mock explosion, the first event in the drill, occurred in a car in industrial south Seattle.', 'The third appointment was to a new job, executive vice president and chief staff officer.', \"The commission dropped charges that Patton improperly appointed Conner to the Kentucky Lottery Board and that he improperly appointed Conner's then-husband, Seth, to the Agriculture Development Board.\", 'Revenue rose 3.9 percent, to $1.63 billion from $1.57 billion.']\n",
      "['In Nigeria, the whole ijaw indigenous showed Chevron to encourage the violence against them and of up to pay Nigerian soldiers to shoot the demonstrators at the naval base from Warri.', 'I know that in France, the principle of slaughter of whole herd has been implemented and that this is not the best way to combat this phenomenon.', 'Unfortunately the final objective of a European Constitution would be exactly the opposite and obviously we cannot approve it.', 'The right for a government to draw aside its constitution arbitrarily is the definition characteristic of a tyranny.', 'The right for a government to dismiss arbitrarily its constitution is the definition of a characteristic tyranny.', 'But other sources close to the sale said Vivendi was keeping the door open for further bids in the next day or two.', \"Micron's numbers also marked the first quarterly profit in three years for the DRAM manufacturer.\", \"Perry said he backs the Senate's efforts, including the fines, to force the Democrats to return.\", \"The American Anglican Council, which represents Episcopalian conservatives, said it will seek authorization to create a separate province in North America because of last week's actions.\", 'Shares of Allergan were up 14 cents at $78.40 in late trading on the New York Stock Exchange.', 'More than 130 people have been arrested and $17 million worth of property seized in an Internet fraud sweep announced Friday by three U.S. government agencies.', 'Albuquerque Mayor Martin Chavez said investigators felt confident that with the arrests they had \"at least one of the fires resolved.\"', 'The scientist also quarantined himself at home as soon as he developed SARS symptoms, officials said.', 'A Cuban architect was sentenced to 20 years in prison Friday for using two fake grenades to hijack a passenger plane from Cuba to Florida in April.', 'Jim Williams, director of the US-VISIT project, said that by the middle of November, inspectors will be fingerprinting and photographing many foreign passengers arriving in Atlanta.', 'In Nairobi, the provost of All Saints Cathedral, the Very Reverend Peter Karanja, said the US Episcopal Church was alienating itself from the Anglican Communion.', 'Vermillion, Posey and Madison County populations will decline.', 'Swartz had sought to have the charges dismissed, saying New Hampshire was the wrong place to charge him.', 'In 1995, the last survey, those numbers were equal.', 'The federal courts have ruled that the monument violates the constitutional ban against state-established religion.', 'They underwent more tests over the weekend, and are now warded at Raffles Hospital.', 'At the Casa de Espana, customers were eating dinner and playing bingo when a bomb went off.', 'The panel will not begin a formal investigation because the statute of limitations has expired, Plofsky said.', 'Frankel said Peace Rules will run in the Preakness Stakes on May 17.', 'The charges of espionage and aiding the enemy can carry the death penalty.', 'It may be dying because entrenched interests are positioning themselves to control the Internet\\'s choke-points and they are lobbying the FCC to aid and abet them.\"', 'But church members and observers say they anticipate that the decision here could pose doctrinal problems for some Episcopalians who believe the Bible prohibits homosexuality.', \"Steve Squyres, a Cornell University scientist, is principal investigator for the missions' science instruments.\", 'The military said it had killed 16 rebels and captured nine in the campaign so far, with one soldier killed and six wounded.', 'The team has named the sensor Canary, for cellular analysis and notification of antigen risks and yields.', 'Sgt. Ernest Bucklew, 33, was coming home from Iraq to bury his mother in Pennsylvania.', 'Shevaun Pennington disappeared on Saturday morning after arranging to meet 31-year-old Toby Studabaker.', 'While federal prosecutors refuse to discuss the investigation, lawyers and others familiar with it say it remains focused on Campbell.', 'The blue-chip Dow Jones industrial average .DJI fell 86.56 points, or 0.94 percent, to 9,109.99, after giving up more than 1 percent earlier.', 'But neither he nor Peace Rules could keep Funny Cide from drawing away.', 'Waksal pleaded guilty to insider trading charges last year, and he is scheduled to be sentenced June 10.', 'Zambrano pitched seven innings and allowed two runs on five hits and four walks.', \"I'm absolutely confident we're going to have a bill, Frist, R-Tenn., said Thursday.\", 'The Korean Air deal is expected to be finalized \"in the next several weeks,\" Boeing spokesman Bob Saling said.', 'Shares of EDS closed Thursday at $18.51, up 6 cents on the New York Stock Exchange.', 'There were 293 human cases of West Nile in Indiana in 2002, including 11 deaths statewide.', \"The Supreme Court said Monday the government can require public libraries to equip computers with anti-pornography filters, rejecting librarians' complaints that the law amounts to censorship.\", \"The vulnerability exists in the way Microsoft's Visual Basic for Applications checks document properties passed to it when a document is opened.\", 'Of the 24 million phone votes cast, Studdard was only 130,000 votes ahead of Aiken.', 'However, we have decided to opt for the European consortium\\'s engine as the best overall solution.\"', \"The U.S. Food and Drug Administration rejected ImClone's original application in December 2001, saying the trial had been sloppily conducted.\", 'House Judiciary Committee Chairman James Sensenbrenner, R-Wis., says he is sensitive to civil liberties complaints.', 'The Dodgers won their sixth consecutive game and seventh in their last nine as they beat Colorado 3-2 on Wednesday in front of a crowd of 25,332 at Dodger Stadium.', 'So far, authorities also have searched areas in Pennsylvania, Ohio, Indiana, and Michigan.', 'The 30-year bond <US30YT=RR> firmed 24/32, taking its yield to 4.18 percent, after hitting another record low of 4.16 percent.', 'On Thursday, a Post article argued that a 50 basis point cut from the Fed was more likely.', 'Heatley underwent surgery Saturday for a broken jaw and an MRI found two torn ligaments in his right knee.', 'Lay had refused to turn over the papers, asserting his Fifth Amendment right against self-incrimination.', 'In a news release Thursday, Strayhorn said this was the first time a comptroller rejected a budget.', 'Analysts polled by Thomson Financial First Call had been expected to see a loss of about 11 cents a share from continuing operations.', 'A new worm has been spreading rapidly across the Internet, sometimes pretending to be an e-mail from Microsoft Chairman Bill Gates, antivirus vendors said Monday..', 'Approval of the Minutes of the previous session  ', '(The House accepts the oral amendment)', 'Boston Scientific said it has gained 51 percent of the coated-stent market in Europe.', 'The Senate Banking Committee is scheduled to hold a hearing on Tuesday, when Donaldson will be questioned about hedge and mutual funds.', 'The petitioners are entitled to respect for their private lives.', 'His partner Bijan Darvish is charged with filing a false police report.', 'The mock explosion of a radioactive \"dirty bomb,\" the first event in the weeklong drill, occurred on several acres in the south Seattle industrial area.', 'Bruce N. Hawthorne, 53, was named executive vice president and chief staff officer.', 'Patton also appointed Conner to the Kentucky Lottery Board and appointed Seth Conner to the Agriculture Development Board, the commission says.', 'The McLean, Virginia-based company said newspaper revenue increased 5 percent to $1.46 billion.']\n",
      "[0.8400000000000001, 0.8500000000000001, 0.96, 0.96, 0.96, 0.8, 0.75, 0.5599999999999999, 0.68, 0.26660000000000006, 0.9199999999999999, 0.76, 0.8400000000000001, 0.8800000000000001, 0.8400000000000001, 1.0, 1.0, 0.68, 1.0, 0.8, 0.6400000000000001, 1.0, 0.8800000000000001, 0.7200000000000001, 0.7200000000000001, 0.6400000000000001, 0.76, 0.8400000000000001, 0.6000000000000001, 0.7200000000000001, 0.6000000000000001, 0.6000000000000001, 0.96, 0.5, 0.45, 0.7000000000000001, 0.7000000000000001, 0.6000000000000001, 0.6000000000000001, 0.7334, 0.3334, 0.7200000000000001, 0.76, 0.68, 0.76, 0.5599999999999999, 0.75, 0.8800000000000001, 0.75, 0.55, 0.75, 0.45, 0.76, 0.6400000000000001, 0.76, 0.96, 1.0, 0.96, 0.5599999999999999, 0.96, 0.55, 0.55, 0.65, 0.65, 0.5, 0.24]\n"
     ]
    }
   ],
   "source": [
    "import nltk\n",
    "from nltk.tokenize import word_tokenize, sent_tokenize\n",
    "\n",
    "file_docs = []\n",
    "file_docs3 = []\n",
    "similarities = []\n",
    "\n",
    "for index, row in data_frame.iterrows():\n",
    "    tokens = sent_tokenize(row['Sentence 1'])\n",
    "    file_docs3.append(row['Sentence 2'])\n",
    "    similarities.append(row['Similarity'] * 0.2)\n",
    "    for line in tokens:\n",
    "        file_docs.append(line)\n",
    "   \n",
    "print(file_docs)\n",
    "print(file_docs3)\n",
    "print(similarities)"
   ]
  },
  {
   "cell_type": "code",
   "execution_count": 19,
   "metadata": {},
   "outputs": [
    {
     "name": "stdout",
     "output_type": "stream",
     "text": [
      "Number of documents: 68\n"
     ]
    }
   ],
   "source": [
    "print(\"Number of documents:\", len(file_docs))"
   ]
  },
  {
   "cell_type": "code",
   "execution_count": 20,
   "metadata": {},
   "outputs": [
    {
     "data": {
      "text/plain": [
       "True"
      ]
     },
     "execution_count": 20,
     "metadata": {},
     "output_type": "execute_result"
    }
   ],
   "source": [
    "import nltk\n",
    "from nltk.tokenize import word_tokenize\n",
    "\n",
    "nltk.download('punkt')"
   ]
  },
  {
   "cell_type": "code",
   "execution_count": 21,
   "metadata": {},
   "outputs": [
    {
     "name": "stdout",
     "output_type": "stream",
     "text": [
      "[['in', 'nigeria', ',', 'chevron', 'has', 'been', 'accused', 'by', 'the', 'all-ijaw', 'indigenous', 'people', 'of', 'instigating', 'violence', 'against', 'them', 'and', 'actually', 'paying', 'nigerian', 'soldiers', 'to', 'shoot', 'protesters', 'at', 'the', 'warri', 'naval', 'base', '.'], ['i', 'know', 'that', 'in', 'france', 'they', 'have', 'had', 'whole', 'herd', 'slaughter', 'and', 'this', 'does', 'not', 'seem', 'to', 'be', 'the', 'best', 'way', 'forward', '.'], ['unfortunately', ',', 'the', 'ultimate', 'objective', 'of', 'a', 'european', 'constitution', 'would', 'be', 'precisely', 'the', 'opposite', ',', 'and', 'so', ',', 'of', 'course', ',', 'we', 'can', 'not', 'vote', 'for', 'it', '.'], ['the', 'right', 'of', 'a', 'government', 'arbitrarily', 'to', 'set', 'aside', 'its', 'own', 'constitution', 'is', 'the', 'defining', 'characteristic', 'of', 'a', 'tyranny', '.'], ['the', 'right', 'of', 'a', 'government', 'arbitrarily', 'to', 'set', 'aside', 'its', 'own', 'constitution', 'is', 'the', 'defining', 'characteristic', 'of', 'a', 'tyranny', '.'], ['but', 'other', 'sources', 'close', 'to', 'the', 'sale', 'said', 'vivendi', 'was', 'keeping', 'the', 'door', 'open', 'to', 'further', 'bids', 'and', 'hoped', 'to', 'see', 'bidders', 'interested', 'in', 'individual', 'assets', 'team', 'up', '.'], ['micron', 'has', 'declared', 'its', 'first', 'quarterly', 'profit', 'for', 'three', 'years', '.'], ['the', 'fines', 'are', 'part', 'of', 'failed', 'republican', 'efforts', 'to', 'force', 'or', 'entice', 'the', 'democrats', 'to', 'return', '.'], ['the', 'american', 'anglican', 'council', ',', 'which', 'represents', 'episcopalian', 'conservatives', ',', 'said', 'it', 'will', 'seek', 'authorization', 'to', 'create', 'a', 'separate', 'group', '.'], ['amgen', 'shares', 'gained', '93', 'cents', ',', 'or', '1.45', 'percent', ',', 'to', '$', '65.05', 'in', 'afternoon', 'trading', 'on', 'nasdaq', '.'], ['u.s.', 'prosecutors', 'have', 'arrested', 'more', 'than', '130', 'individuals', 'and', 'have', 'seized', 'more', 'than', '$', '17', 'million', 'in', 'a', 'continuing', 'crackdown', 'on', 'internet', 'fraud', 'and', 'abuse', '.'], ['chavez', 'said', 'investigators', 'feel', 'confident', 'they', \"'ve\", 'got', '``', 'at', 'least', 'one', 'of', 'the', 'fires', 'resolved', 'in', 'that', 'regard', '.', \"''\"], ['authorities', 'said', 'the', 'scientist', 'properly', 'quarantined', 'himself', 'at', 'home', 'after', 'he', 'developed', 'sars', 'symptoms', 'dec.', '10', '.'], ['the', 'man', 'accused', 'of', 'using', 'fake', 'grenades', 'to', 'commandeer', 'a', 'cuban', 'plane', 'that', 'landed', 'in', 'key', 'west', 'in', 'april', 'was', 'sentenced', 'friday', 'to', '20', 'years', 'in', 'prison', '.'], ['jim', 'williams', ',', 'director', 'of', 'the', 'us-visit', 'project', ',', 'said', 'that', 'by', 'the', 'middle', 'of', 'november', ',', 'many', 'arriving', 'passengers', 'in', 'atlanta', 'will', 'be', 'fingerprinted', 'and', 'photographed', '.'], ['the', 'episcopal', 'church', '``', 'is', 'alienating', 'itself', 'from', 'the', 'anglican', 'communion', ',', \"''\", 'said', 'the', 'very', 'rev', '.'], ['peter', 'karanja', ',', 'provost', 'of', 'the', 'all', 'saints', 'cathedral', ',', 'in', 'nairobi', '.'], ['counties', 'with', 'population', 'declines', 'will', 'be', 'vermillion', ',', 'posey', 'and', 'madison', '.'], ['swartz', ',', 'indicted', 'in', 'february', ',', 'had', 'argued', 'that', 'new', 'hampshire', 'was', 'the', 'wrong', 'place', 'to', 'charge', 'him', '.'], ['the', 'last', 'time', 'the', 'survey', 'was', 'conducted', ',', 'in', '1995', ',', 'those', 'numbers', 'matched', '.'], ['higher', 'courts', 'have', 'ruled', 'that', 'the', 'tablets', 'broke', 'the', 'constitutional', 'separation', 'of', 'church', 'and', 'state', '.'], ['they', 'were', 'at', 'raffles', 'hospital', 'over', 'the', 'weekend', 'for', 'further', 'evaluation', '.'], ['when', 'the', 'bomb', 'exploded', 'at', 'the', 'casa', 'de', 'espana', ',', 'customers', 'were', 'eating', 'dinner', 'and', 'playing', 'bingo', '.'], ['plofsky', 'said', 'the', 'commission', 'wo', \"n't\", 'investigate', 'because', 'the', 'three-year', 'statute', 'of', 'limitations', 'has', 'expired', '.'], ['in', 'two', 'weeks', ',', 'he', \"'ll\", 'probably', 'send', 'out', 'peace', 'rules', 'in', 'the', 'preakness', '.'], ['if', 'convicted', 'of', 'the', 'spying', 'charges', ',', 'he', 'could', 'face', 'the', 'death', 'penalty', '.'], ['entrenched', 'interests', 'are', 'positioning', 'themselves', 'to', 'control', 'the', 'network', \"'s\", 'chokepoints', 'and', 'they', 'are', 'lobbying', 'the', 'fcc', 'to', 'aid', 'and', 'abet', 'them', '.'], ['but', 'church', 'members', 'and', 'observers', 'say', 'they', 'expect', 'that', 'the', 'decision', 'could', 'be', 'problematic', 'for', 'many', 'episcopalians', '.'], ['squyres', 'is', 'principal', 'investigator', 'for', 'the', 'athena', 'payload', '-', 'a', 'collection', 'of', 'science', 'instruments', 'carted', 'by', 'each', 'rover', '.'], ['the', 'military', 'said', 'it', 'had', 'killed', '12', 'rebels', 'and', 'captured', 'nine', 'in', 'the', 'campaign', 'so', 'far', ',', 'for', 'the', 'loss', 'of', 'six', 'soldiers', 'wounded', '.'], ['the', 'new', 'sensor', '--', 'dubbed', 'canary', 'for', '``', 'cellular', 'analysis', 'and', 'notification', 'of', 'antigen', 'risks', 'and', 'yields', \"''\", '--', 'hijacks', 'this', 'natural', 'process', 'with', 'two', 'important', 'changes', '.'], ['one', ',', 'fort', 'carson-based', 'sgt', '.'], ['ernest', 'bucklew', ',', '33', ',', 'had', 'been', 'on', 'his', 'way', 'home', 'to', 'attend', 'his', 'mother', \"'s\", 'funeral', 'in', 'pennsylvania', '.'], ['police', 'launched', 'an', 'international', 'hunt', 'for', 'shevaun', 'pennington', 'after', 'she', 'ran', 'away', 'with', '31-year-old', 'toby', 'studabaker', 'saturday', '.'], ['lawyers', 'and', 'others', 'familiar', 'with', 'the', 'federal', 'investigation', 'say', 'it', 'remains', 'focused', 'on', 'campbell', ',', 'though', 'prosecutors', 'declined', 'to', 'discuss', 'the', 'probe', '.'], ['the', 'dow', 'jones', 'industrial', 'average', '.dji', 'was', 'off', '58.69', 'points', ',', 'or', '0.64', 'percent', ',', 'at', '9,137.86', '.'], ['peace', 'rules', 'defeated', 'funny', 'cide', 'in', 'the', 'louisiana', 'derby', '.'], ['waksal', 'has', 'pleaded', 'guilty', 'to', 'securities', 'fraud', 'and', 'is', 'to', 'be', 'sentenced', 'next', 'week', '.'], ['he', 'allowed', 'two', 'runs', 'in', 'seven', 'innings', 'and', 'struck', 'out', 'six', '.'], ['still', ',', 'he', 'said', ',', '``', 'i', \"'m\", 'absolutely', 'confident', 'we', \"'re\", 'going', 'to', 'have', 'a', 'bill', '.', \"''\"], ['boeing', 'said', 'the', 'final', 'agreement', 'is', 'expected', 'to', 'be', 'signed', 'during', 'the', 'next', 'few', 'weeks', '.'], ['shares', 'in', 'eds', 'closed', 'on', 'thursday', 'at', '$', '18.51', ',', 'a', 'gain', 'of', '6', 'cents', '.'], ['nationally', ',', 'the', 'federal', 'centers', 'for', 'disease', 'control', 'and', 'prevention', 'recorded', '4,156', 'cases', 'of', 'west', 'nile', ',', 'including', '284', 'deaths', '.'], ['a', 'divided', 'supreme', 'court', 'ruled', 'monday', 'that', 'congress', 'can', 'force', 'the', 'nation', \"'s\", 'public', 'libraries', 'to', 'equip', 'computers', 'with', 'anti-pornography', 'filters', '.'], ['the', 'weakness', 'exists', 'in', 'the', 'way', 'that', 'vba', 'looks', 'at', 'the', 'properties', 'of', 'documents', 'passed', 'to', 'it', 'when', 'the', 'document', 'is', 'opened', 'by', 'a', 'host', 'application', '.'], ['of', '24', 'million', 'phoned-in', 'votes', ',', '50.28', 'percent', 'were', 'for', 'studdard', ',', 'putting', 'him', '130,000', 'votes', 'ahead', 'of', 'aiken', '.'], ['however', ',', 'we', 'have', 'decided', 'to', 'opt', 'for', 'the', 'european', 'consortium', \"'s\", 'engine', 'as', 'the', 'best', 'overall', 'solution', 'and', 'due', 'to', 'the', 'substantial', 'price', 'efforts', 'made', \"''\", '.'], ['the', 'food', 'and', 'drug', 'administration', 'rejected', 'imclone', \"'s\", '2001', 'application', 'to', 'sell', 'erbitux', ',', 'citing', 'shoddy', 'research', '.'], ['critics', 'say', 'the', 'law', 'violates', 'civil', 'liberties', ',', 'something', 'house', 'judiciary', 'committee', 'chairman', 'james', 'sensenbrenner', ',', 'r-wis.', ',', 'says', 'he', 'is', 'sensitive', 'to', '.'], ['the', 'dodgers', 'won', 'their', 'sixth', 'consecutive', 'game', 'their', 'longest', 'win', 'streak', 'since', '2001', 'as', 'they', 'edged', 'colorado', ',', '3-2', ',', 'wednesday', 'in', 'front', 'of', 'a', 'crowd', 'of', '25,332', 'at', 'dodger', 'stadium', '.'], ['so', 'far', ',', 'they', 'have', 'searched', 'pennsylvania', ',', 'ohio', ',', 'michigan', ',', 'illinois', 'and', 'indiana', ',', 'authorities', 'in', 'those', 'state', 'said', '.'], ['the', '30-year', 'bond', 'us30yt=rr', 'firmed', '31/32', ',', 'taking', 'its', 'yield', 'to', '4.16', 'percent', '--', 'another', 'record', 'low', '--', 'from', '4.22', 'percent', '.'], ['on', 'thursday', ',', 'a', 'washington', 'post', 'article', 'argued', 'that', 'a', '50', 'basis', 'point', 'cut', 'from', 'the', 'fed', 'was', 'more', 'likely', ',', 'contrary', 'to', 'the', 'wall', 'street', 'journal', \"'s\", 'line', '.'], ['mr.', 'heatley', ',', 'who', 'suffered', 'a', 'broken', 'jaw', 'and', 'torn', 'knee', 'ligaments', ',', 'faces', 'several', 'charges', '.'], ['lay', 'had', 'argued', 'that', 'handing', 'over', 'the', 'documents', 'would', 'be', 'a', 'violation', 'of', 'his', 'fifth', 'amendment', 'rights', 'against', 'self-incrimination', '.'], ['strayhorn', 'said', 'it', 'was', 'the', 'first', 'time', 'in', 'texas', 'history', 'a', 'comptroller', 'had', 'not', 'certified', 'the', 'appropriations', 'act', '.'], ['excluding', 'the', 'charges', ',', 'analysts', ',', 'on', 'average', ',', 'expected', 'a', 'loss', 'of', '11', 'cents', 'a', 'share', '.'], ['security', 'experts', 'are', 'warning', 'that', 'a', 'new', 'mass-mailing', 'worm', 'is', 'spreading', 'widely', 'across', 'the', 'internet', ',', 'sometimes', 'posing', 'as', 'e-mail', 'from', 'the', 'microsoft', 'founder', '.'], ['approval', 'of', 'the', 'minutes', 'of', 'the', 'previous', 'sitting'], ['(', 'parliament', 'accepted', 'the', 'oral', 'amendment', ')'], ['it', 'estimated', 'on', 'thursday', 'it', 'has', 'a', '51', 'percent', 'market', 'share', 'in', 'europe', '.'], ['the', 'senate', 'banking', 'committee', 'is', 'scheduled', 'to', 'hold', 'a', 'hearing', 'on', 'tuesday', 'where', 'donaldson', 'is', 'scheduled', 'to', 'testify', 'on', 'hedge', 'and', 'mutual', 'funds', '.'], ['these', 'men', '``', 'are', 'entitled', 'to', 'respect', 'for', 'their', 'private', 'lives', ',', \"''\", 'kennedy', 'said', '.'], ['mr', 'morse', 'is', 'charged', 'with', 'assault', 'and', 'mr', 'darvish', 'is', 'charged', 'with', 'filing', 'a', 'false', 'report', '.'], ['the', 'mock', 'explosion', ',', 'the', 'first', 'event', 'in', 'the', 'drill', ',', 'occurred', 'in', 'a', 'car', 'in', 'industrial', 'south', 'seattle', '.'], ['the', 'third', 'appointment', 'was', 'to', 'a', 'new', 'job', ',', 'executive', 'vice', 'president', 'and', 'chief', 'staff', 'officer', '.'], ['the', 'commission', 'dropped', 'charges', 'that', 'patton', 'improperly', 'appointed', 'conner', 'to', 'the', 'kentucky', 'lottery', 'board', 'and', 'that', 'he', 'improperly', 'appointed', 'conner', \"'s\", 'then-husband', ',', 'seth', ',', 'to', 'the', 'agriculture', 'development', 'board', '.'], ['revenue', 'rose', '3.9', 'percent', ',', 'to', '$', '1.63', 'billion', 'from', '$', '1.57', 'billion', '.']]\n"
     ]
    }
   ],
   "source": [
    "gen_docs = [[w.lower() for w in word_tokenize(text)] \n",
    "            for text in file_docs]\n",
    "\n",
    "print(gen_docs)"
   ]
  },
  {
   "cell_type": "code",
   "execution_count": 22,
   "metadata": {},
   "outputs": [
    {
     "name": "stdout",
     "output_type": "stream",
     "text": [
      "{',': 0, '.': 1, 'accused': 2, 'actually': 3, 'against': 4, 'all-ijaw': 5, 'and': 6, 'at': 7, 'base': 8, 'been': 9, 'by': 10, 'chevron': 11, 'has': 12, 'in': 13, 'indigenous': 14, 'instigating': 15, 'naval': 16, 'nigeria': 17, 'nigerian': 18, 'of': 19, 'paying': 20, 'people': 21, 'protesters': 22, 'shoot': 23, 'soldiers': 24, 'the': 25, 'them': 26, 'to': 27, 'violence': 28, 'warri': 29, 'be': 30, 'best': 31, 'does': 32, 'forward': 33, 'france': 34, 'had': 35, 'have': 36, 'herd': 37, 'i': 38, 'know': 39, 'not': 40, 'seem': 41, 'slaughter': 42, 'that': 43, 'they': 44, 'this': 45, 'way': 46, 'whole': 47, 'a': 48, 'can': 49, 'constitution': 50, 'course': 51, 'european': 52, 'for': 53, 'it': 54, 'objective': 55, 'opposite': 56, 'precisely': 57, 'so': 58, 'ultimate': 59, 'unfortunately': 60, 'vote': 61, 'we': 62, 'would': 63, 'arbitrarily': 64, 'aside': 65, 'characteristic': 66, 'defining': 67, 'government': 68, 'is': 69, 'its': 70, 'own': 71, 'right': 72, 'set': 73, 'tyranny': 74, 'assets': 75, 'bidders': 76, 'bids': 77, 'but': 78, 'close': 79, 'door': 80, 'further': 81, 'hoped': 82, 'individual': 83, 'interested': 84, 'keeping': 85, 'open': 86, 'other': 87, 'said': 88, 'sale': 89, 'see': 90, 'sources': 91, 'team': 92, 'up': 93, 'vivendi': 94, 'was': 95, 'declared': 96, 'first': 97, 'micron': 98, 'profit': 99, 'quarterly': 100, 'three': 101, 'years': 102, 'are': 103, 'democrats': 104, 'efforts': 105, 'entice': 106, 'failed': 107, 'fines': 108, 'force': 109, 'or': 110, 'part': 111, 'republican': 112, 'return': 113, 'american': 114, 'anglican': 115, 'authorization': 116, 'conservatives': 117, 'council': 118, 'create': 119, 'episcopalian': 120, 'group': 121, 'represents': 122, 'seek': 123, 'separate': 124, 'which': 125, 'will': 126, '$': 127, '1.45': 128, '65.05': 129, '93': 130, 'afternoon': 131, 'amgen': 132, 'cents': 133, 'gained': 134, 'nasdaq': 135, 'on': 136, 'percent': 137, 'shares': 138, 'trading': 139, '130': 140, '17': 141, 'abuse': 142, 'arrested': 143, 'continuing': 144, 'crackdown': 145, 'fraud': 146, 'individuals': 147, 'internet': 148, 'million': 149, 'more': 150, 'prosecutors': 151, 'seized': 152, 'than': 153, 'u.s.': 154, \"''\": 155, \"'ve\": 156, '``': 157, 'chavez': 158, 'confident': 159, 'feel': 160, 'fires': 161, 'got': 162, 'investigators': 163, 'least': 164, 'one': 165, 'regard': 166, 'resolved': 167, '10': 168, 'after': 169, 'authorities': 170, 'dec.': 171, 'developed': 172, 'he': 173, 'himself': 174, 'home': 175, 'properly': 176, 'quarantined': 177, 'sars': 178, 'scientist': 179, 'symptoms': 180, '20': 181, 'april': 182, 'commandeer': 183, 'cuban': 184, 'fake': 185, 'friday': 186, 'grenades': 187, 'key': 188, 'landed': 189, 'man': 190, 'plane': 191, 'prison': 192, 'sentenced': 193, 'using': 194, 'west': 195, 'arriving': 196, 'atlanta': 197, 'director': 198, 'fingerprinted': 199, 'jim': 200, 'many': 201, 'middle': 202, 'november': 203, 'passengers': 204, 'photographed': 205, 'project': 206, 'us-visit': 207, 'williams': 208, 'alienating': 209, 'church': 210, 'communion': 211, 'episcopal': 212, 'from': 213, 'itself': 214, 'rev': 215, 'very': 216, 'all': 217, 'cathedral': 218, 'karanja': 219, 'nairobi': 220, 'peter': 221, 'provost': 222, 'saints': 223, 'counties': 224, 'declines': 225, 'madison': 226, 'population': 227, 'posey': 228, 'vermillion': 229, 'with': 230, 'argued': 231, 'charge': 232, 'february': 233, 'hampshire': 234, 'him': 235, 'indicted': 236, 'new': 237, 'place': 238, 'swartz': 239, 'wrong': 240, '1995': 241, 'conducted': 242, 'last': 243, 'matched': 244, 'numbers': 245, 'survey': 246, 'those': 247, 'time': 248, 'broke': 249, 'constitutional': 250, 'courts': 251, 'higher': 252, 'ruled': 253, 'separation': 254, 'state': 255, 'tablets': 256, 'evaluation': 257, 'hospital': 258, 'over': 259, 'raffles': 260, 'weekend': 261, 'were': 262, 'bingo': 263, 'bomb': 264, 'casa': 265, 'customers': 266, 'de': 267, 'dinner': 268, 'eating': 269, 'espana': 270, 'exploded': 271, 'playing': 272, 'when': 273, 'because': 274, 'commission': 275, 'expired': 276, 'investigate': 277, 'limitations': 278, \"n't\": 279, 'plofsky': 280, 'statute': 281, 'three-year': 282, 'wo': 283, \"'ll\": 284, 'out': 285, 'peace': 286, 'preakness': 287, 'probably': 288, 'rules': 289, 'send': 290, 'two': 291, 'weeks': 292, 'charges': 293, 'convicted': 294, 'could': 295, 'death': 296, 'face': 297, 'if': 298, 'penalty': 299, 'spying': 300, \"'s\": 301, 'abet': 302, 'aid': 303, 'chokepoints': 304, 'control': 305, 'entrenched': 306, 'fcc': 307, 'interests': 308, 'lobbying': 309, 'network': 310, 'positioning': 311, 'themselves': 312, 'decision': 313, 'episcopalians': 314, 'expect': 315, 'members': 316, 'observers': 317, 'problematic': 318, 'say': 319, '-': 320, 'athena': 321, 'carted': 322, 'collection': 323, 'each': 324, 'instruments': 325, 'investigator': 326, 'payload': 327, 'principal': 328, 'rover': 329, 'science': 330, 'squyres': 331, '12': 332, 'campaign': 333, 'captured': 334, 'far': 335, 'killed': 336, 'loss': 337, 'military': 338, 'nine': 339, 'rebels': 340, 'six': 341, 'wounded': 342, '--': 343, 'analysis': 344, 'antigen': 345, 'canary': 346, 'cellular': 347, 'changes': 348, 'dubbed': 349, 'hijacks': 350, 'important': 351, 'natural': 352, 'notification': 353, 'process': 354, 'risks': 355, 'sensor': 356, 'yields': 357, 'carson-based': 358, 'fort': 359, 'sgt': 360, '33': 361, 'attend': 362, 'bucklew': 363, 'ernest': 364, 'funeral': 365, 'his': 366, 'mother': 367, 'pennsylvania': 368, '31-year-old': 369, 'an': 370, 'away': 371, 'hunt': 372, 'international': 373, 'launched': 374, 'pennington': 375, 'police': 376, 'ran': 377, 'saturday': 378, 'she': 379, 'shevaun': 380, 'studabaker': 381, 'toby': 382, 'campbell': 383, 'declined': 384, 'discuss': 385, 'familiar': 386, 'federal': 387, 'focused': 388, 'investigation': 389, 'lawyers': 390, 'others': 391, 'probe': 392, 'remains': 393, 'though': 394, '.dji': 395, '0.64': 396, '58.69': 397, '9,137.86': 398, 'average': 399, 'dow': 400, 'industrial': 401, 'jones': 402, 'off': 403, 'points': 404, 'cide': 405, 'defeated': 406, 'derby': 407, 'funny': 408, 'louisiana': 409, 'guilty': 410, 'next': 411, 'pleaded': 412, 'securities': 413, 'waksal': 414, 'week': 415, 'allowed': 416, 'innings': 417, 'runs': 418, 'seven': 419, 'struck': 420, \"'m\": 421, \"'re\": 422, 'absolutely': 423, 'bill': 424, 'going': 425, 'still': 426, 'agreement': 427, 'boeing': 428, 'during': 429, 'expected': 430, 'few': 431, 'final': 432, 'signed': 433, '18.51': 434, '6': 435, 'closed': 436, 'eds': 437, 'gain': 438, 'thursday': 439, '284': 440, '4,156': 441, 'cases': 442, 'centers': 443, 'deaths': 444, 'disease': 445, 'including': 446, 'nationally': 447, 'nile': 448, 'prevention': 449, 'recorded': 450, 'anti-pornography': 451, 'computers': 452, 'congress': 453, 'court': 454, 'divided': 455, 'equip': 456, 'filters': 457, 'libraries': 458, 'monday': 459, 'nation': 460, 'public': 461, 'supreme': 462, 'application': 463, 'document': 464, 'documents': 465, 'exists': 466, 'host': 467, 'looks': 468, 'opened': 469, 'passed': 470, 'properties': 471, 'vba': 472, 'weakness': 473, '130,000': 474, '24': 475, '50.28': 476, 'ahead': 477, 'aiken': 478, 'phoned-in': 479, 'putting': 480, 'studdard': 481, 'votes': 482, 'as': 483, 'consortium': 484, 'decided': 485, 'due': 486, 'engine': 487, 'however': 488, 'made': 489, 'opt': 490, 'overall': 491, 'price': 492, 'solution': 493, 'substantial': 494, '2001': 495, 'administration': 496, 'citing': 497, 'drug': 498, 'erbitux': 499, 'food': 500, 'imclone': 501, 'rejected': 502, 'research': 503, 'sell': 504, 'shoddy': 505, 'chairman': 506, 'civil': 507, 'committee': 508, 'critics': 509, 'house': 510, 'james': 511, 'judiciary': 512, 'law': 513, 'liberties': 514, 'r-wis.': 515, 'says': 516, 'sensenbrenner': 517, 'sensitive': 518, 'something': 519, 'violates': 520, '25,332': 521, '3-2': 522, 'colorado': 523, 'consecutive': 524, 'crowd': 525, 'dodger': 526, 'dodgers': 527, 'edged': 528, 'front': 529, 'game': 530, 'longest': 531, 'since': 532, 'sixth': 533, 'stadium': 534, 'streak': 535, 'their': 536, 'wednesday': 537, 'win': 538, 'won': 539, 'illinois': 540, 'indiana': 541, 'michigan': 542, 'ohio': 543, 'searched': 544, '30-year': 545, '31/32': 546, '4.16': 547, '4.22': 548, 'another': 549, 'bond': 550, 'firmed': 551, 'low': 552, 'record': 553, 'taking': 554, 'us30yt=rr': 555, 'yield': 556, '50': 557, 'article': 558, 'basis': 559, 'contrary': 560, 'cut': 561, 'fed': 562, 'journal': 563, 'likely': 564, 'line': 565, 'point': 566, 'post': 567, 'street': 568, 'wall': 569, 'washington': 570, 'broken': 571, 'faces': 572, 'heatley': 573, 'jaw': 574, 'knee': 575, 'ligaments': 576, 'mr.': 577, 'several': 578, 'suffered': 579, 'torn': 580, 'who': 581, 'amendment': 582, 'fifth': 583, 'handing': 584, 'lay': 585, 'rights': 586, 'self-incrimination': 587, 'violation': 588, 'act': 589, 'appropriations': 590, 'certified': 591, 'comptroller': 592, 'history': 593, 'strayhorn': 594, 'texas': 595, '11': 596, 'analysts': 597, 'excluding': 598, 'share': 599, 'across': 600, 'e-mail': 601, 'experts': 602, 'founder': 603, 'mass-mailing': 604, 'microsoft': 605, 'posing': 606, 'security': 607, 'sometimes': 608, 'spreading': 609, 'warning': 610, 'widely': 611, 'worm': 612, 'approval': 613, 'minutes': 614, 'previous': 615, 'sitting': 616, '(': 617, ')': 618, 'accepted': 619, 'oral': 620, 'parliament': 621, '51': 622, 'estimated': 623, 'europe': 624, 'market': 625, 'banking': 626, 'donaldson': 627, 'funds': 628, 'hearing': 629, 'hedge': 630, 'hold': 631, 'mutual': 632, 'scheduled': 633, 'senate': 634, 'testify': 635, 'tuesday': 636, 'where': 637, 'entitled': 638, 'kennedy': 639, 'lives': 640, 'men': 641, 'private': 642, 'respect': 643, 'these': 644, 'assault': 645, 'charged': 646, 'darvish': 647, 'false': 648, 'filing': 649, 'morse': 650, 'mr': 651, 'report': 652, 'car': 653, 'drill': 654, 'event': 655, 'explosion': 656, 'mock': 657, 'occurred': 658, 'seattle': 659, 'south': 660, 'appointment': 661, 'chief': 662, 'executive': 663, 'job': 664, 'officer': 665, 'president': 666, 'staff': 667, 'third': 668, 'vice': 669, 'agriculture': 670, 'appointed': 671, 'board': 672, 'conner': 673, 'development': 674, 'dropped': 675, 'improperly': 676, 'kentucky': 677, 'lottery': 678, 'patton': 679, 'seth': 680, 'then-husband': 681, '1.57': 682, '1.63': 683, '3.9': 684, 'billion': 685, 'revenue': 686, 'rose': 687}\n"
     ]
    }
   ],
   "source": [
    "import gensim\n",
    "\n",
    "dictionary = gensim.corpora.Dictionary(gen_docs)\n",
    "\n",
    "print(dictionary.token2id)"
   ]
  },
  {
   "cell_type": "code",
   "execution_count": 23,
   "metadata": {},
   "outputs": [
    {
     "name": "stdout",
     "output_type": "stream",
     "text": [
      "[[(0, 1), (1, 1), (2, 1), (3, 1), (4, 1), (5, 1), (6, 1), (7, 1), (8, 1), (9, 1), (10, 1), (11, 1), (12, 1), (13, 1), (14, 1), (15, 1), (16, 1), (17, 1), (18, 1), (19, 1), (20, 1), (21, 1), (22, 1), (23, 1), (24, 1), (25, 2), (26, 1), (27, 1), (28, 1), (29, 1)], [(1, 1), (6, 1), (13, 1), (25, 1), (27, 1), (30, 1), (31, 1), (32, 1), (33, 1), (34, 1), (35, 1), (36, 1), (37, 1), (38, 1), (39, 1), (40, 1), (41, 1), (42, 1), (43, 1), (44, 1), (45, 1), (46, 1), (47, 1)], [(0, 4), (1, 1), (6, 1), (19, 2), (25, 2), (30, 1), (40, 1), (48, 1), (49, 1), (50, 1), (51, 1), (52, 1), (53, 1), (54, 1), (55, 1), (56, 1), (57, 1), (58, 1), (59, 1), (60, 1), (61, 1), (62, 1), (63, 1)], [(1, 1), (19, 2), (25, 2), (27, 1), (48, 2), (50, 1), (64, 1), (65, 1), (66, 1), (67, 1), (68, 1), (69, 1), (70, 1), (71, 1), (72, 1), (73, 1), (74, 1)], [(1, 1), (19, 2), (25, 2), (27, 1), (48, 2), (50, 1), (64, 1), (65, 1), (66, 1), (67, 1), (68, 1), (69, 1), (70, 1), (71, 1), (72, 1), (73, 1), (74, 1)], [(1, 1), (6, 1), (13, 1), (25, 2), (27, 3), (75, 1), (76, 1), (77, 1), (78, 1), (79, 1), (80, 1), (81, 1), (82, 1), (83, 1), (84, 1), (85, 1), (86, 1), (87, 1), (88, 1), (89, 1), (90, 1), (91, 1), (92, 1), (93, 1), (94, 1), (95, 1)], [(1, 1), (12, 1), (53, 1), (70, 1), (96, 1), (97, 1), (98, 1), (99, 1), (100, 1), (101, 1), (102, 1)], [(1, 1), (19, 1), (25, 2), (27, 2), (103, 1), (104, 1), (105, 1), (106, 1), (107, 1), (108, 1), (109, 1), (110, 1), (111, 1), (112, 1), (113, 1)], [(0, 2), (1, 1), (25, 1), (27, 1), (48, 1), (54, 1), (88, 1), (114, 1), (115, 1), (116, 1), (117, 1), (118, 1), (119, 1), (120, 1), (121, 1), (122, 1), (123, 1), (124, 1), (125, 1), (126, 1)], [(0, 2), (1, 1), (13, 1), (27, 1), (110, 1), (127, 1), (128, 1), (129, 1), (130, 1), (131, 1), (132, 1), (133, 1), (134, 1), (135, 1), (136, 1), (137, 1), (138, 1), (139, 1)], [(1, 1), (6, 2), (13, 1), (36, 2), (48, 1), (127, 1), (136, 1), (140, 1), (141, 1), (142, 1), (143, 1), (144, 1), (145, 1), (146, 1), (147, 1), (148, 1), (149, 1), (150, 2), (151, 1), (152, 1), (153, 2), (154, 1)], [(1, 1), (7, 1), (13, 1), (19, 1), (25, 1), (43, 1), (44, 1), (88, 1), (155, 1), (156, 1), (157, 1), (158, 1), (159, 1), (160, 1), (161, 1), (162, 1), (163, 1), (164, 1), (165, 1), (166, 1), (167, 1)], [(1, 1), (7, 1), (25, 1), (88, 1), (168, 1), (169, 1), (170, 1), (171, 1), (172, 1), (173, 1), (174, 1), (175, 1), (176, 1), (177, 1), (178, 1), (179, 1), (180, 1)], [(1, 1), (2, 1), (13, 3), (19, 1), (25, 1), (27, 2), (43, 1), (48, 1), (95, 1), (102, 1), (181, 1), (182, 1), (183, 1), (184, 1), (185, 1), (186, 1), (187, 1), (188, 1), (189, 1), (190, 1), (191, 1), (192, 1), (193, 1), (194, 1), (195, 1)], [(0, 3), (1, 1), (6, 1), (10, 1), (13, 1), (19, 2), (25, 2), (30, 1), (43, 1), (88, 1), (126, 1), (196, 1), (197, 1), (198, 1), (199, 1), (200, 1), (201, 1), (202, 1), (203, 1), (204, 1), (205, 1), (206, 1), (207, 1), (208, 1)], [(0, 1), (1, 1), (25, 3), (69, 1), (88, 1), (115, 1), (155, 1), (157, 1), (209, 1), (210, 1), (211, 1), (212, 1), (213, 1), (214, 1), (215, 1), (216, 1)], [(0, 2), (1, 1), (13, 1), (19, 1), (25, 1), (217, 1), (218, 1), (219, 1), (220, 1), (221, 1), (222, 1), (223, 1)], [(0, 1), (1, 1), (6, 1), (30, 1), (126, 1), (224, 1), (225, 1), (226, 1), (227, 1), (228, 1), (229, 1), (230, 1)], [(0, 2), (1, 1), (13, 1), (25, 1), (27, 1), (35, 1), (43, 1), (95, 1), (231, 1), (232, 1), (233, 1), (234, 1), (235, 1), (236, 1), (237, 1), (238, 1), (239, 1), (240, 1)], [(0, 2), (1, 1), (13, 1), (25, 2), (95, 1), (241, 1), (242, 1), (243, 1), (244, 1), (245, 1), (246, 1), (247, 1), (248, 1)], [(1, 1), (6, 1), (19, 1), (25, 2), (36, 1), (43, 1), (210, 1), (249, 1), (250, 1), (251, 1), (252, 1), (253, 1), (254, 1), (255, 1), (256, 1)], [(1, 1), (7, 1), (25, 1), (44, 1), (53, 1), (81, 1), (257, 1), (258, 1), (259, 1), (260, 1), (261, 1), (262, 1)], [(0, 1), (1, 1), (6, 1), (7, 1), (25, 2), (262, 1), (263, 1), (264, 1), (265, 1), (266, 1), (267, 1), (268, 1), (269, 1), (270, 1), (271, 1), (272, 1), (273, 1)], [(1, 1), (12, 1), (19, 1), (25, 2), (88, 1), (274, 1), (275, 1), (276, 1), (277, 1), (278, 1), (279, 1), (280, 1), (281, 1), (282, 1), (283, 1)], [(0, 1), (1, 1), (13, 2), (25, 1), (173, 1), (284, 1), (285, 1), (286, 1), (287, 1), (288, 1), (289, 1), (290, 1), (291, 1), (292, 1)], [(0, 1), (1, 1), (19, 1), (25, 2), (173, 1), (293, 1), (294, 1), (295, 1), (296, 1), (297, 1), (298, 1), (299, 1), (300, 1)], [(1, 1), (6, 2), (25, 2), (26, 1), (27, 2), (44, 1), (103, 2), (301, 1), (302, 1), (303, 1), (304, 1), (305, 1), (306, 1), (307, 1), (308, 1), (309, 1), (310, 1), (311, 1), (312, 1)], [(1, 1), (6, 1), (25, 1), (30, 1), (43, 1), (44, 1), (53, 1), (78, 1), (201, 1), (210, 1), (295, 1), (313, 1), (314, 1), (315, 1), (316, 1), (317, 1), (318, 1), (319, 1)], [(1, 1), (10, 1), (19, 1), (25, 1), (48, 1), (53, 1), (69, 1), (320, 1), (321, 1), (322, 1), (323, 1), (324, 1), (325, 1), (326, 1), (327, 1), (328, 1), (329, 1), (330, 1), (331, 1)], [(0, 1), (1, 1), (6, 1), (13, 1), (19, 1), (24, 1), (25, 3), (35, 1), (53, 1), (54, 1), (58, 1), (88, 1), (332, 1), (333, 1), (334, 1), (335, 1), (336, 1), (337, 1), (338, 1), (339, 1), (340, 1), (341, 1), (342, 1)], [(1, 1), (6, 2), (19, 1), (25, 1), (45, 1), (53, 1), (155, 1), (157, 1), (230, 1), (237, 1), (291, 1), (343, 2), (344, 1), (345, 1), (346, 1), (347, 1), (348, 1), (349, 1), (350, 1), (351, 1), (352, 1), (353, 1), (354, 1), (355, 1), (356, 1), (357, 1)], [(0, 1), (1, 1), (165, 1), (358, 1), (359, 1), (360, 1)], [(0, 2), (1, 1), (9, 1), (13, 1), (27, 1), (35, 1), (46, 1), (136, 1), (175, 1), (301, 1), (361, 1), (362, 1), (363, 1), (364, 1), (365, 1), (366, 2), (367, 1), (368, 1)], [(1, 1), (53, 1), (169, 1), (230, 1), (369, 1), (370, 1), (371, 1), (372, 1), (373, 1), (374, 1), (375, 1), (376, 1), (377, 1), (378, 1), (379, 1), (380, 1), (381, 1), (382, 1)], [(0, 1), (1, 1), (6, 1), (25, 2), (27, 1), (54, 1), (136, 1), (151, 1), (230, 1), (319, 1), (383, 1), (384, 1), (385, 1), (386, 1), (387, 1), (388, 1), (389, 1), (390, 1), (391, 1), (392, 1), (393, 1), (394, 1)], [(0, 2), (1, 1), (7, 1), (25, 1), (95, 1), (110, 1), (137, 1), (395, 1), (396, 1), (397, 1), (398, 1), (399, 1), (400, 1), (401, 1), (402, 1), (403, 1), (404, 1)], [(1, 1), (13, 1), (25, 1), (286, 1), (289, 1), (405, 1), (406, 1), (407, 1), (408, 1), (409, 1)], [(1, 1), (6, 1), (12, 1), (27, 2), (30, 1), (69, 1), (146, 1), (193, 1), (410, 1), (411, 1), (412, 1), (413, 1), (414, 1), (415, 1)], [(1, 1), (6, 1), (13, 1), (173, 1), (285, 1), (291, 1), (341, 1), (416, 1), (417, 1), (418, 1), (419, 1), (420, 1)], [(0, 2), (1, 1), (27, 1), (36, 1), (38, 1), (48, 1), (62, 1), (88, 1), (155, 1), (157, 1), (159, 1), (173, 1), (421, 1), (422, 1), (423, 1), (424, 1), (425, 1), (426, 1)], [(1, 1), (25, 2), (27, 1), (30, 1), (69, 1), (88, 1), (292, 1), (411, 1), (427, 1), (428, 1), (429, 1), (430, 1), (431, 1), (432, 1), (433, 1)], [(0, 1), (1, 1), (7, 1), (13, 1), (19, 1), (48, 1), (127, 1), (133, 1), (136, 1), (138, 1), (434, 1), (435, 1), (436, 1), (437, 1), (438, 1), (439, 1)], [(0, 2), (1, 1), (6, 1), (19, 1), (25, 1), (53, 1), (195, 1), (305, 1), (387, 1), (440, 1), (441, 1), (442, 1), (443, 1), (444, 1), (445, 1), (446, 1), (447, 1), (448, 1), (449, 1), (450, 1)], [(1, 1), (25, 1), (27, 1), (43, 1), (48, 1), (49, 1), (109, 1), (230, 1), (253, 1), (301, 1), (451, 1), (452, 1), (453, 1), (454, 1), (455, 1), (456, 1), (457, 1), (458, 1), (459, 1), (460, 1), (461, 1), (462, 1)], [(1, 1), (7, 1), (10, 1), (13, 1), (19, 1), (25, 4), (27, 1), (43, 1), (46, 1), (48, 1), (54, 1), (69, 1), (273, 1), (463, 1), (464, 1), (465, 1), (466, 1), (467, 1), (468, 1), (469, 1), (470, 1), (471, 1), (472, 1), (473, 1)], [(0, 2), (1, 1), (19, 2), (53, 1), (137, 1), (149, 1), (235, 1), (262, 1), (474, 1), (475, 1), (476, 1), (477, 1), (478, 1), (479, 1), (480, 1), (481, 1), (482, 2)], [(0, 1), (1, 1), (6, 1), (25, 3), (27, 2), (31, 1), (36, 1), (52, 1), (53, 1), (62, 1), (105, 1), (155, 1), (301, 1), (483, 1), (484, 1), (485, 1), (486, 1), (487, 1), (488, 1), (489, 1), (490, 1), (491, 1), (492, 1), (493, 1), (494, 1)], [(0, 1), (1, 1), (6, 1), (25, 1), (27, 1), (301, 1), (463, 1), (495, 1), (496, 1), (497, 1), (498, 1), (499, 1), (500, 1), (501, 1), (502, 1), (503, 1), (504, 1), (505, 1)], [(0, 3), (1, 1), (25, 1), (27, 1), (69, 1), (173, 1), (319, 1), (506, 1), (507, 1), (508, 1), (509, 1), (510, 1), (511, 1), (512, 1), (513, 1), (514, 1), (515, 1), (516, 1), (517, 1), (518, 1), (519, 1), (520, 1)], [(0, 2), (1, 1), (7, 1), (13, 1), (19, 2), (25, 1), (44, 1), (48, 1), (483, 1), (495, 1), (521, 1), (522, 1), (523, 1), (524, 1), (525, 1), (526, 1), (527, 1), (528, 1), (529, 1), (530, 1), (531, 1), (532, 1), (533, 1), (534, 1), (535, 1), (536, 2), (537, 1), (538, 1), (539, 1)], [(0, 5), (1, 1), (6, 1), (13, 1), (36, 1), (44, 1), (58, 1), (88, 1), (170, 1), (247, 1), (255, 1), (335, 1), (368, 1), (540, 1), (541, 1), (542, 1), (543, 1), (544, 1)], [(0, 1), (1, 1), (25, 1), (27, 1), (70, 1), (137, 2), (213, 1), (343, 2), (545, 1), (546, 1), (547, 1), (548, 1), (549, 1), (550, 1), (551, 1), (552, 1), (553, 1), (554, 1), (555, 1), (556, 1)], [(0, 2), (1, 1), (25, 2), (27, 1), (43, 1), (48, 2), (95, 1), (136, 1), (150, 1), (213, 1), (231, 1), (301, 1), (439, 1), (557, 1), (558, 1), (559, 1), (560, 1), (561, 1), (562, 1), (563, 1), (564, 1), (565, 1), (566, 1), (567, 1), (568, 1), (569, 1), (570, 1)], [(0, 2), (1, 1), (6, 1), (48, 1), (293, 1), (571, 1), (572, 1), (573, 1), (574, 1), (575, 1), (576, 1), (577, 1), (578, 1), (579, 1), (580, 1), (581, 1)], [(1, 1), (4, 1), (19, 1), (25, 1), (30, 1), (35, 1), (43, 1), (48, 1), (63, 1), (231, 1), (259, 1), (366, 1), (465, 1), (582, 1), (583, 1), (584, 1), (585, 1), (586, 1), (587, 1), (588, 1)], [(1, 1), (13, 1), (25, 2), (35, 1), (40, 1), (48, 1), (54, 1), (88, 1), (95, 1), (97, 1), (248, 1), (589, 1), (590, 1), (591, 1), (592, 1), (593, 1), (594, 1), (595, 1)], [(0, 3), (1, 1), (19, 1), (25, 1), (48, 2), (133, 1), (136, 1), (293, 1), (337, 1), (399, 1), (430, 1), (596, 1), (597, 1), (598, 1), (599, 1)], [(0, 1), (1, 1), (25, 2), (43, 1), (48, 1), (69, 1), (103, 1), (148, 1), (213, 1), (237, 1), (483, 1), (600, 1), (601, 1), (602, 1), (603, 1), (604, 1), (605, 1), (606, 1), (607, 1), (608, 1), (609, 1), (610, 1), (611, 1), (612, 1)], [(19, 2), (25, 2), (613, 1), (614, 1), (615, 1), (616, 1)], [(25, 1), (582, 1), (617, 1), (618, 1), (619, 1), (620, 1), (621, 1)], [(1, 1), (12, 1), (13, 1), (48, 1), (54, 2), (136, 1), (137, 1), (439, 1), (599, 1), (622, 1), (623, 1), (624, 1), (625, 1)], [(1, 1), (6, 1), (25, 1), (27, 2), (48, 1), (69, 2), (136, 2), (508, 1), (626, 1), (627, 1), (628, 1), (629, 1), (630, 1), (631, 1), (632, 1), (633, 2), (634, 1), (635, 1), (636, 1), (637, 1)], [(0, 1), (1, 1), (27, 1), (53, 1), (88, 1), (103, 1), (155, 1), (157, 1), (536, 1), (638, 1), (639, 1), (640, 1), (641, 1), (642, 1), (643, 1), (644, 1)], [(1, 1), (6, 1), (48, 1), (69, 2), (230, 2), (645, 1), (646, 2), (647, 1), (648, 1), (649, 1), (650, 1), (651, 2), (652, 1)], [(0, 2), (1, 1), (13, 3), (25, 3), (48, 1), (97, 1), (401, 1), (653, 1), (654, 1), (655, 1), (656, 1), (657, 1), (658, 1), (659, 1), (660, 1)], [(0, 1), (1, 1), (6, 1), (25, 1), (27, 1), (48, 1), (95, 1), (237, 1), (661, 1), (662, 1), (663, 1), (664, 1), (665, 1), (666, 1), (667, 1), (668, 1), (669, 1)], [(0, 2), (1, 1), (6, 1), (25, 3), (27, 2), (43, 2), (173, 1), (275, 1), (293, 1), (301, 1), (670, 1), (671, 2), (672, 2), (673, 2), (674, 1), (675, 1), (676, 2), (677, 1), (678, 1), (679, 1), (680, 1), (681, 1)], [(0, 1), (1, 1), (27, 1), (127, 2), (137, 1), (213, 1), (682, 1), (683, 1), (684, 1), (685, 2), (686, 1), (687, 1)]]\n"
     ]
    }
   ],
   "source": [
    "corpus = [dictionary.doc2bow(gen_doc) for gen_doc in gen_docs]\n",
    "\n",
    "print(corpus)"
   ]
  },
  {
   "cell_type": "code",
   "execution_count": 24,
   "metadata": {},
   "outputs": [
    {
     "name": "stdout",
     "output_type": "stream",
     "text": [
      "[[',', 0.03], ['.', 0.0], ['accused', 0.19], ['actually', 0.22], ['against', 0.19], ['all-ijaw', 0.22], ['and', 0.05], ['at', 0.11], ['base', 0.22], ['been', 0.19], ['by', 0.15], ['chevron', 0.22], ['has', 0.14], ['in', 0.06], ['indigenous', 0.22], ['instigating', 0.22], ['naval', 0.22], ['nigeria', 0.22], ['nigerian', 0.22], ['of', 0.06], ['paying', 0.22], ['people', 0.22], ['protesters', 0.22], ['shoot', 0.22], ['soldiers', 0.19], ['the', 0.03], ['them', 0.19], ['to', 0.05], ['violence', 0.22], ['warri', 0.22]]\n",
      "[['.', 0.0], ['and', 0.07], ['in', 0.07], ['the', 0.02], ['to', 0.06], ['be', 0.14], ['best', 0.23], ['does', 0.28], ['forward', 0.28], ['france', 0.28], ['had', 0.16], ['have', 0.16], ['herd', 0.28], ['i', 0.23], ['know', 0.28], ['not', 0.21], ['seem', 0.28], ['slaughter', 0.28], ['that', 0.11], ['they', 0.15], ['this', 0.23], ['way', 0.21], ['whole', 0.28]]\n",
      "[[',', 0.16], ['.', 0.0], ['and', 0.07], ['of', 0.14], ['the', 0.04], ['be', 0.14], ['not', 0.21], ['a', 0.07], ['can', 0.23], ['constitution', 0.21], ['course', 0.28], ['european', 0.23], ['for', 0.12], ['it', 0.15], ['objective', 0.28], ['opposite', 0.28], ['precisely', 0.28], ['so', 0.21], ['ultimate', 0.28], ['unfortunately', 0.28], ['vote', 0.28], ['we', 0.21], ['would', 0.23]]\n",
      "[['.', 0.0], ['of', 0.18], ['the', 0.05], ['to', 0.07], ['a', 0.18], ['constitution', 0.26], ['arbitrarily', 0.29], ['aside', 0.29], ['characteristic', 0.29], ['defining', 0.29], ['government', 0.29], ['is', 0.15], ['its', 0.24], ['own', 0.29], ['right', 0.29], ['set', 0.29], ['tyranny', 0.29]]\n",
      "[['.', 0.0], ['of', 0.18], ['the', 0.05], ['to', 0.07], ['a', 0.18], ['constitution', 0.26], ['arbitrarily', 0.29], ['aside', 0.29], ['characteristic', 0.29], ['defining', 0.29], ['government', 0.29], ['is', 0.15], ['its', 0.24], ['own', 0.29], ['right', 0.29], ['set', 0.29], ['tyranny', 0.29]]\n",
      "[['.', 0.0], ['and', 0.05], ['in', 0.06], ['the', 0.03], ['to', 0.14], ['assets', 0.23], ['bidders', 0.23], ['bids', 0.23], ['but', 0.19], ['close', 0.23], ['door', 0.23], ['further', 0.19], ['hoped', 0.23], ['individual', 0.23], ['interested', 0.23], ['keeping', 0.23], ['open', 0.23], ['other', 0.23], ['said', 0.09], ['sale', 0.23], ['see', 0.23], ['sources', 0.23], ['team', 0.23], ['up', 0.23], ['vivendi', 0.23], ['was', 0.12]]\n",
      "[['.', 0.0], ['has', 0.23], ['for', 0.15], ['its', 0.25], ['declared', 0.37], ['first', 0.27], ['micron', 0.37], ['profit', 0.37], ['quarterly', 0.37], ['three', 0.37], ['years', 0.31]]\n",
      "[['.', 0.0], ['of', 0.08], ['the', 0.05], ['to', 0.14], ['are', 0.22], ['democrats', 0.32], ['efforts', 0.27], ['entice', 0.32], ['failed', 0.32], ['fines', 0.32], ['force', 0.27], ['or', 0.24], ['part', 0.32], ['republican', 0.32], ['return', 0.32]]\n",
      "[[',', 0.08], ['.', 0.0], ['the', 0.02], ['to', 0.06], ['a', 0.07], ['it', 0.15], ['said', 0.11], ['american', 0.28], ['anglican', 0.23], ['authorization', 0.28], ['conservatives', 0.28], ['council', 0.28], ['create', 0.28], ['episcopalian', 0.28], ['group', 0.28], ['represents', 0.28], ['seek', 0.28], ['separate', 0.28], ['which', 0.28], ['will', 0.21]]\n",
      "[[',', 0.09], ['.', 0.0], ['in', 0.08], ['to', 0.06], ['or', 0.22], ['$', 0.2], ['1.45', 0.3], ['65.05', 0.3], ['93', 0.3], ['afternoon', 0.3], ['amgen', 0.3], ['cents', 0.22], ['gained', 0.3], ['nasdaq', 0.3], ['on', 0.14], ['percent', 0.17], ['shares', 0.25], ['trading', 0.3]]\n",
      "[['.', 0.0], ['and', 0.1], ['in', 0.06], ['have', 0.25], ['a', 0.06], ['$', 0.15], ['on', 0.1], ['130', 0.22], ['17', 0.22], ['abuse', 0.22], ['arrested', 0.22], ['continuing', 0.22], ['crackdown', 0.22], ['fraud', 0.18], ['individuals', 0.22], ['internet', 0.18], ['million', 0.18], ['more', 0.37], ['prosecutors', 0.18], ['seized', 0.22], ['than', 0.44], ['u.s.', 0.22]]\n",
      "[['.', 0.0], ['at', 0.14], ['in', 0.07], ['of', 0.07], ['the', 0.02], ['that', 0.11], ['they', 0.16], ['said', 0.11], [\"''\", 0.17], [\"'ve\", 0.29], ['``', 0.18], ['chavez', 0.29], ['confident', 0.24], ['feel', 0.29], ['fires', 0.29], ['got', 0.29], ['investigators', 0.29], ['least', 0.29], ['one', 0.24], ['regard', 0.29], ['resolved', 0.29]]\n",
      "[['.', 0.0], ['at', 0.14], ['the', 0.02], ['said', 0.11], ['10', 0.29], ['after', 0.24], ['authorities', 0.24], ['dec.', 0.29], ['developed', 0.29], ['he', 0.16], ['himself', 0.29], ['home', 0.24], ['properly', 0.29], ['quarantined', 0.29], ['sars', 0.29], ['scientist', 0.29], ['symptoms', 0.29]]\n",
      "[['.', 0.0], ['accused', 0.2], ['in', 0.19], ['of', 0.06], ['the', 0.02], ['to', 0.1], ['that', 0.09], ['a', 0.06], ['was', 0.12], ['years', 0.2], ['20', 0.24], ['april', 0.24], ['commandeer', 0.24], ['cuban', 0.24], ['fake', 0.24], ['friday', 0.24], ['grenades', 0.24], ['key', 0.24], ['landed', 0.24], ['man', 0.24], ['plane', 0.24], ['prison', 0.24], ['sentenced', 0.2], ['using', 0.24], ['west', 0.2]]\n",
      "[[',', 0.11], ['.', 0.0], ['and', 0.06], ['by', 0.17], ['in', 0.07], ['of', 0.13], ['the', 0.04], ['be', 0.13], ['that', 0.1], ['said', 0.1], ['will', 0.19], ['arriving', 0.26], ['atlanta', 0.26], ['director', 0.26], ['fingerprinted', 0.26], ['jim', 0.26], ['many', 0.22], ['middle', 0.26], ['november', 0.26], ['passengers', 0.26], ['photographed', 0.26], ['project', 0.26], ['us-visit', 0.26], ['williams', 0.26]]\n",
      "[[',', 0.05], ['.', 0.0], ['the', 0.07], ['is', 0.15], ['said', 0.13], ['anglican', 0.28], [\"''\", 0.19], ['``', 0.21], ['alienating', 0.34], ['church', 0.25], ['communion', 0.34], ['episcopal', 0.34], ['from', 0.21], ['itself', 0.34], ['rev', 0.34], ['very', 0.34]]\n",
      "[[',', 0.11], ['.', 0.0], ['in', 0.1], ['of', 0.1], ['the', 0.03], ['all', 0.37], ['cathedral', 0.37], ['karanja', 0.37], ['nairobi', 0.37], ['peter', 0.37], ['provost', 0.37], ['saints', 0.37]]\n",
      "[[',', 0.05], ['.', 0.0], ['and', 0.09], ['be', 0.19], ['will', 0.28], ['counties', 0.37], ['declines', 0.37], ['madison', 0.37], ['population', 0.37], ['posey', 0.37], ['vermillion', 0.37], ['with', 0.21]]\n",
      "[[',', 0.09], ['.', 0.0], ['in', 0.08], ['the', 0.02], ['to', 0.07], ['had', 0.19], ['that', 0.13], ['was', 0.16], ['argued', 0.24], ['charge', 0.32], ['february', 0.32], ['hampshire', 0.32], ['him', 0.27], ['indicted', 0.32], ['new', 0.22], ['place', 0.32], ['swartz', 0.32], ['wrong', 0.32]]\n",
      "[[',', 0.1], ['.', 0.0], ['in', 0.09], ['the', 0.05], ['was', 0.18], ['1995', 0.36], ['conducted', 0.36], ['last', 0.36], ['matched', 0.36], ['numbers', 0.36], ['survey', 0.36], ['those', 0.3], ['time', 0.3]]\n",
      "[['.', 0.0], ['and', 0.08], ['of', 0.09], ['the', 0.05], ['have', 0.2], ['that', 0.13], ['church', 0.25], ['broke', 0.34], ['constitutional', 0.34], ['courts', 0.34], ['higher', 0.34], ['ruled', 0.29], ['separation', 0.34], ['state', 0.29], ['tablets', 0.34]]\n",
      "[['.', 0.0], ['at', 0.19], ['the', 0.03], ['they', 0.21], ['for', 0.16], ['further', 0.32], ['evaluation', 0.39], ['hospital', 0.39], ['over', 0.32], ['raffles', 0.39], ['weekend', 0.39], ['were', 0.29]]\n",
      "[[',', 0.04], ['.', 0.0], ['and', 0.07], ['at', 0.14], ['the', 0.04], ['were', 0.22], ['bingo', 0.29], ['bomb', 0.29], ['casa', 0.29], ['customers', 0.29], ['de', 0.29], ['dinner', 0.29], ['eating', 0.29], ['espana', 0.29], ['exploded', 0.29], ['playing', 0.29], ['when', 0.25]]\n",
      "[['.', 0.0], ['has', 0.19], ['of', 0.08], ['the', 0.05], ['said', 0.12], ['because', 0.31], ['commission', 0.26], ['expired', 0.31], ['investigate', 0.31], ['limitations', 0.31], [\"n't\", 0.31], ['plofsky', 0.31], ['statute', 0.31], ['three-year', 0.31], ['wo', 0.31]]\n",
      "[[',', 0.05], ['.', 0.0], ['in', 0.18], ['the', 0.03], ['he', 0.19], [\"'ll\", 0.36], ['out', 0.3], ['peace', 0.3], ['preakness', 0.36], ['probably', 0.36], ['rules', 0.3], ['send', 0.36], ['two', 0.26], ['weeks', 0.3]]\n",
      "[[',', 0.05], ['.', 0.0], ['of', 0.09], ['the', 0.05], ['he', 0.2], ['charges', 0.24], ['convicted', 0.36], ['could', 0.3], ['death', 0.36], ['face', 0.36], ['if', 0.36], ['penalty', 0.36], ['spying', 0.36]]\n",
      "[['.', 0.0], ['and', 0.13], ['the', 0.04], ['them', 0.22], ['to', 0.11], ['they', 0.14], ['are', 0.36], [\"'s\", 0.14], ['abet', 0.27], ['aid', 0.27], ['chokepoints', 0.27], ['control', 0.22], ['entrenched', 0.27], ['fcc', 0.27], ['interests', 0.27], ['lobbying', 0.27], ['network', 0.27], ['positioning', 0.27], ['themselves', 0.27]]\n",
      "[['.', 0.0], ['and', 0.07], ['the', 0.02], ['be', 0.16], ['that', 0.12], ['they', 0.17], ['for', 0.13], ['but', 0.26], ['many', 0.26], ['church', 0.23], ['could', 0.26], ['decision', 0.31], ['episcopalians', 0.31], ['expect', 0.31], ['members', 0.31], ['observers', 0.31], ['problematic', 0.31], ['say', 0.23]]\n",
      "[['.', 0.0], ['by', 0.19], ['of', 0.07], ['the', 0.02], ['a', 0.07], ['for', 0.11], ['is', 0.12], ['-', 0.28], ['athena', 0.28], ['carted', 0.28], ['collection', 0.28], ['each', 0.28], ['instruments', 0.28], ['investigator', 0.28], ['payload', 0.28], ['principal', 0.28], ['rover', 0.28], ['science', 0.28], ['squyres', 0.28]]\n",
      "[[',', 0.04], ['.', 0.0], ['and', 0.07], ['in', 0.07], ['of', 0.07], ['soldiers', 0.24], ['the', 0.06], ['had', 0.16], ['for', 0.12], ['it', 0.15], ['so', 0.21], ['said', 0.11], ['12', 0.28], ['campaign', 0.28], ['captured', 0.28], ['far', 0.24], ['killed', 0.28], ['loss', 0.24], ['military', 0.28], ['nine', 0.28], ['rebels', 0.28], ['six', 0.24], ['wounded', 0.28]]\n",
      "[['.', 0.0], ['and', 0.11], ['of', 0.06], ['the', 0.02], ['this', 0.19], ['for', 0.09], [\"''\", 0.13], ['``', 0.14], ['with', 0.13], ['new', 0.15], ['two', 0.17], ['--', 0.37], ['analysis', 0.22], ['antigen', 0.22], ['canary', 0.22], ['cellular', 0.22], ['changes', 0.22], ['dubbed', 0.22], ['hijacks', 0.22], ['important', 0.22], ['natural', 0.22], ['notification', 0.22], ['process', 0.22], ['risks', 0.22], ['sensor', 0.22], ['yields', 0.22]]\n",
      "[[',', 0.07], ['.', 0.0], ['one', 0.43], ['carson-based', 0.52], ['fort', 0.52], ['sgt', 0.52]]\n",
      "[[',', 0.08], ['.', 0.0], ['been', 0.24], ['in', 0.07], ['to', 0.06], ['had', 0.16], ['way', 0.21], ['on', 0.14], ['home', 0.24], [\"'s\", 0.15], ['33', 0.28], ['attend', 0.28], ['bucklew', 0.28], ['ernest', 0.28], ['funeral', 0.28], ['his', 0.47], ['mother', 0.28], ['pennsylvania', 0.24]]\n",
      "[['.', 0.0], ['for', 0.11], ['after', 0.21], ['with', 0.15], ['31-year-old', 0.26], ['an', 0.26], ['away', 0.26], ['hunt', 0.26], ['international', 0.26], ['launched', 0.26], ['pennington', 0.26], ['police', 0.26], ['ran', 0.26], ['saturday', 0.26], ['she', 0.26], ['shevaun', 0.26], ['studabaker', 0.26], ['toby', 0.26]]\n",
      "[[',', 0.04], ['.', 0.0], ['and', 0.06], ['the', 0.04], ['to', 0.06], ['it', 0.14], ['on', 0.13], ['prosecutors', 0.22], ['with', 0.15], ['say', 0.2], ['campbell', 0.27], ['declined', 0.27], ['discuss', 0.27], ['familiar', 0.27], ['federal', 0.22], ['focused', 0.27], ['investigation', 0.27], ['lawyers', 0.27], ['others', 0.27], ['probe', 0.27], ['remains', 0.27], ['though', 0.27]]\n",
      "[[',', 0.09], ['.', 0.0], ['at', 0.15], ['the', 0.02], ['was', 0.15], ['or', 0.22], ['percent', 0.17], ['.dji', 0.3], ['0.64', 0.3], ['58.69', 0.3], ['9,137.86', 0.3], ['average', 0.25], ['dow', 0.3], ['industrial', 0.25], ['jones', 0.3], ['off', 0.3], ['points', 0.3]]\n",
      "[['.', 0.0], ['in', 0.1], ['the', 0.03], ['peace', 0.33], ['rules', 0.33], ['cide', 0.39], ['defeated', 0.39], ['derby', 0.39], ['funny', 0.39], ['louisiana', 0.39]]\n",
      "[['.', 0.0], ['and', 0.08], ['has', 0.22], ['to', 0.15], ['be', 0.18], ['is', 0.15], ['fraud', 0.29], ['sentenced', 0.29], ['guilty', 0.35], ['next', 0.29], ['pleaded', 0.35], ['securities', 0.35], ['waksal', 0.35], ['week', 0.35]]\n",
      "[['.', 0.0], ['and', 0.09], ['in', 0.09], ['he', 0.2], ['out', 0.31], ['two', 0.27], ['six', 0.31], ['allowed', 0.37], ['innings', 0.37], ['runs', 0.37], ['seven', 0.37], ['struck', 0.37]]\n",
      "[[',', 0.09], ['.', 0.0], ['to', 0.07], ['have', 0.19], ['i', 0.27], ['a', 0.08], ['we', 0.24], ['said', 0.13], [\"''\", 0.19], ['``', 0.2], ['confident', 0.27], ['he', 0.17], [\"'m\", 0.32], [\"'re\", 0.32], ['absolutely', 0.32], ['bill', 0.32], ['going', 0.32], ['still', 0.32]]\n",
      "[['.', 0.0], ['the', 0.05], ['to', 0.07], ['be', 0.17], ['is', 0.15], ['said', 0.13], ['weeks', 0.28], ['next', 0.28], ['agreement', 0.34], ['boeing', 0.34], ['during', 0.34], ['expected', 0.28], ['few', 0.34], ['final', 0.34], ['signed', 0.34]]\n",
      "[[',', 0.05], ['.', 0.0], ['at', 0.17], ['in', 0.09], ['of', 0.09], ['a', 0.09], ['$', 0.24], ['cents', 0.26], ['on', 0.17], ['shares', 0.3], ['18.51', 0.36], ['6', 0.36], ['closed', 0.36], ['eds', 0.36], ['gain', 0.36], ['thursday', 0.26]]\n",
      "[[',', 0.08], ['.', 0.0], ['and', 0.06], ['of', 0.07], ['the', 0.02], ['for', 0.11], ['west', 0.23], ['control', 0.23], ['federal', 0.23], ['284', 0.27], ['4,156', 0.27], ['cases', 0.27], ['centers', 0.27], ['deaths', 0.27], ['disease', 0.27], ['including', 0.27], ['nationally', 0.27], ['nile', 0.27], ['prevention', 0.27], ['recorded', 0.27]]\n",
      "[['.', 0.0], ['the', 0.02], ['to', 0.05], ['that', 0.1], ['a', 0.07], ['can', 0.22], ['force', 0.22], ['with', 0.15], ['ruled', 0.22], [\"'s\", 0.14], ['anti-pornography', 0.26], ['computers', 0.26], ['congress', 0.26], ['court', 0.26], ['divided', 0.26], ['equip', 0.26], ['filters', 0.26], ['libraries', 0.26], ['monday', 0.26], ['nation', 0.26], ['public', 0.26], ['supreme', 0.26]]\n",
      "[['.', 0.0], ['at', 0.13], ['by', 0.18], ['in', 0.07], ['of', 0.07], ['the', 0.08], ['to', 0.06], ['that', 0.11], ['way', 0.2], ['a', 0.07], ['it', 0.15], ['is', 0.12], ['when', 0.23], ['application', 0.23], ['document', 0.27], ['documents', 0.23], ['exists', 0.27], ['host', 0.27], ['looks', 0.27], ['opened', 0.27], ['passed', 0.27], ['properties', 0.27], ['vba', 0.27], ['weakness', 0.27]]\n",
      "[[',', 0.08], ['.', 0.0], ['of', 0.13], ['for', 0.11], ['percent', 0.15], ['million', 0.22], ['him', 0.22], ['were', 0.19], ['130,000', 0.26], ['24', 0.26], ['50.28', 0.26], ['ahead', 0.26], ['aiken', 0.26], ['phoned-in', 0.26], ['putting', 0.26], ['studdard', 0.26], ['votes', 0.52]]\n",
      "[[',', 0.04], ['.', 0.0], ['and', 0.06], ['the', 0.06], ['to', 0.11], ['best', 0.21], ['have', 0.15], ['european', 0.21], ['for', 0.1], ['we', 0.19], ['efforts', 0.21], [\"''\", 0.15], [\"'s\", 0.14], ['as', 0.19], ['consortium', 0.25], ['decided', 0.25], ['due', 0.25], ['engine', 0.25], ['however', 0.25], ['made', 0.25], ['opt', 0.25], ['overall', 0.25], ['price', 0.25], ['solution', 0.25], ['substantial', 0.25]]\n",
      "[[',', 0.04], ['.', 0.0], ['and', 0.07], ['the', 0.02], ['to', 0.06], [\"'s\", 0.16], ['application', 0.24], ['2001', 0.24], ['administration', 0.29], ['citing', 0.29], ['drug', 0.29], ['erbitux', 0.29], ['food', 0.29], ['imclone', 0.29], ['rejected', 0.29], ['research', 0.29], ['sell', 0.29], ['shoddy', 0.29]]\n",
      "[[',', 0.11], ['.', 0.0], ['the', 0.02], ['to', 0.05], ['is', 0.11], ['he', 0.13], ['say', 0.19], ['chairman', 0.25], ['civil', 0.25], ['committee', 0.21], ['critics', 0.25], ['house', 0.25], ['james', 0.25], ['judiciary', 0.25], ['law', 0.25], ['liberties', 0.25], ['r-wis.', 0.25], ['says', 0.25], ['sensenbrenner', 0.25], ['sensitive', 0.25], ['something', 0.25], ['violates', 0.25]]\n",
      "[[',', 0.06], ['.', 0.0], ['at', 0.1], ['in', 0.05], ['of', 0.11], ['the', 0.02], ['they', 0.11], ['a', 0.05], ['as', 0.15], ['2001', 0.17], ['25,332', 0.21], ['3-2', 0.21], ['colorado', 0.21], ['consecutive', 0.21], ['crowd', 0.21], ['dodger', 0.21], ['dodgers', 0.21], ['edged', 0.21], ['front', 0.21], ['game', 0.21], ['longest', 0.21], ['since', 0.21], ['sixth', 0.21], ['stadium', 0.21], ['streak', 0.21], ['their', 0.35], ['wednesday', 0.21], ['win', 0.21], ['won', 0.21]]\n",
      "[[',', 0.22], ['.', 0.0], ['and', 0.07], ['in', 0.08], ['have', 0.18], ['they', 0.17], ['so', 0.23], ['said', 0.12], ['authorities', 0.26], ['those', 0.26], ['state', 0.26], ['far', 0.26], ['pennsylvania', 0.26], ['illinois', 0.31], ['indiana', 0.31], ['michigan', 0.31], ['ohio', 0.31], ['searched', 0.31]]\n",
      "[[',', 0.03], ['.', 0.0], ['the', 0.02], ['to', 0.05], ['its', 0.16], ['percent', 0.28], ['from', 0.15], ['--', 0.41], ['30-year', 0.24], ['31/32', 0.24], ['4.16', 0.24], ['4.22', 0.24], ['another', 0.24], ['bond', 0.24], ['firmed', 0.24], ['low', 0.24], ['record', 0.24], ['taking', 0.24], ['us30yt=rr', 0.24], ['yield', 0.24]]\n",
      "[[',', 0.07], ['.', 0.0], ['the', 0.03], ['to', 0.05], ['that', 0.09], ['a', 0.12], ['was', 0.12], ['on', 0.11], ['more', 0.2], ['from', 0.15], ['argued', 0.18], [\"'s\", 0.13], ['thursday', 0.18], ['50', 0.24], ['article', 0.24], ['basis', 0.24], ['contrary', 0.24], ['cut', 0.24], ['fed', 0.24], ['journal', 0.24], ['likely', 0.24], ['line', 0.24], ['point', 0.24], ['post', 0.24], ['street', 0.24], ['wall', 0.24], ['washington', 0.24]]\n",
      "[[',', 0.08], ['.', 0.0], ['and', 0.07], ['a', 0.08], ['charges', 0.2], ['broken', 0.29], ['faces', 0.29], ['heatley', 0.29], ['jaw', 0.29], ['knee', 0.29], ['ligaments', 0.29], ['mr.', 0.29], ['several', 0.29], ['suffered', 0.29], ['torn', 0.29], ['who', 0.29]]\n",
      "[['.', 0.0], ['against', 0.25], ['of', 0.08], ['the', 0.02], ['be', 0.15], ['had', 0.17], ['that', 0.12], ['a', 0.08], ['would', 0.25], ['argued', 0.22], ['over', 0.25], ['his', 0.25], ['documents', 0.25], ['amendment', 0.25], ['fifth', 0.29], ['handing', 0.29], ['lay', 0.29], ['rights', 0.29], ['self-incrimination', 0.29], ['violation', 0.29]]\n",
      "[['.', 0.0], ['in', 0.08], ['the', 0.05], ['had', 0.18], ['not', 0.23], ['a', 0.08], ['it', 0.17], ['said', 0.12], ['was', 0.16], ['first', 0.23], ['time', 0.26], ['act', 0.32], ['appropriations', 0.32], ['certified', 0.32], ['comptroller', 0.32], ['history', 0.32], ['strayhorn', 0.32], ['texas', 0.32]]\n",
      "[[',', 0.16], ['.', 0.0], ['of', 0.09], ['the', 0.03], ['a', 0.19], ['cents', 0.27], ['on', 0.17], ['charges', 0.24], ['loss', 0.3], ['average', 0.3], ['expected', 0.3], ['11', 0.36], ['analysts', 0.36], ['excluding', 0.36], ['share', 0.3]]\n",
      "[[',', 0.04], ['.', 0.0], ['the', 0.04], ['that', 0.1], ['a', 0.06], ['is', 0.11], ['are', 0.17], ['internet', 0.21], ['from', 0.15], ['new', 0.17], ['as', 0.19], ['across', 0.25], ['e-mail', 0.25], ['experts', 0.25], ['founder', 0.25], ['mass-mailing', 0.25], ['microsoft', 0.25], ['posing', 0.25], ['security', 0.25], ['sometimes', 0.25], ['spreading', 0.25], ['warning', 0.25], ['widely', 0.25], ['worm', 0.25]]\n",
      "[['of', 0.25], ['the', 0.07], ['approval', 0.48], ['minutes', 0.48], ['previous', 0.48], ['sitting', 0.48]]\n",
      "[['the', 0.03], ['amendment', 0.35], ['(', 0.42], [')', 0.42], ['accepted', 0.42], ['oral', 0.42], ['parliament', 0.42]]\n",
      "[['.', 0.0], ['has', 0.23], ['in', 0.09], ['a', 0.09], ['it', 0.39], ['on', 0.18], ['percent', 0.21], ['thursday', 0.27], ['share', 0.31], ['51', 0.37], ['estimated', 0.37], ['europe', 0.37], ['market', 0.37]]\n",
      "[['.', 0.0], ['and', 0.06], ['the', 0.02], ['to', 0.1], ['a', 0.06], ['is', 0.21], ['on', 0.23], ['committee', 0.2], ['banking', 0.24], ['donaldson', 0.24], ['funds', 0.24], ['hearing', 0.24], ['hedge', 0.24], ['hold', 0.24], ['mutual', 0.24], ['scheduled', 0.48], ['senate', 0.24], ['testify', 0.24], ['tuesday', 0.24], ['where', 0.24]]\n",
      "[[',', 0.05], ['.', 0.0], ['to', 0.07], ['for', 0.14], ['said', 0.13], ['are', 0.22], [\"''\", 0.19], ['``', 0.2], ['their', 0.27], ['entitled', 0.33], ['kennedy', 0.33], ['lives', 0.33], ['men', 0.33], ['private', 0.33], ['respect', 0.33], ['these', 0.33]]\n",
      "[['.', 0.0], ['and', 0.06], ['a', 0.06], ['is', 0.21], ['with', 0.29], ['assault', 0.25], ['charged', 0.5], ['darvish', 0.25], ['false', 0.25], ['filing', 0.25], ['morse', 0.25], ['mr', 0.5], ['report', 0.25]]\n",
      "[[',', 0.09], ['.', 0.0], ['in', 0.24], ['the', 0.07], ['a', 0.08], ['first', 0.23], ['industrial', 0.26], ['car', 0.32], ['drill', 0.32], ['event', 0.32], ['explosion', 0.32], ['mock', 0.32], ['occurred', 0.32], ['seattle', 0.32], ['south', 0.32]]\n",
      "[[',', 0.05], ['.', 0.0], ['and', 0.08], ['the', 0.02], ['to', 0.07], ['a', 0.08], ['was', 0.16], ['new', 0.21], ['appointment', 0.32], ['chief', 0.32], ['executive', 0.32], ['job', 0.32], ['officer', 0.32], ['president', 0.32], ['staff', 0.32], ['third', 0.32], ['vice', 0.32]]\n",
      "[[',', 0.06], ['.', 0.0], ['and', 0.05], ['the', 0.04], ['to', 0.08], ['that', 0.15], ['he', 0.1], ['commission', 0.16], ['charges', 0.13], [\"'s\", 0.1], ['agriculture', 0.19], ['appointed', 0.39], ['board', 0.39], ['conner', 0.39], ['development', 0.19], ['dropped', 0.19], ['improperly', 0.39], ['kentucky', 0.19], ['lottery', 0.19], ['patton', 0.19], ['seth', 0.19], ['then-husband', 0.19]]\n",
      "[[',', 0.04], ['.', 0.0], ['to', 0.06], ['$', 0.39], ['percent', 0.17], ['from', 0.18], ['1.57', 0.29], ['1.63', 0.29], ['3.9', 0.29], ['billion', 0.59], ['revenue', 0.29], ['rose', 0.29]]\n"
     ]
    }
   ],
   "source": [
    "import numpy as np\n",
    "\n",
    "tf_idf = gensim.models.TfidfModel(corpus)\n",
    "for doc in tf_idf[corpus]:\n",
    "    print([[dictionary[id], np.around(freq, decimals=2)] for id, freq in doc])"
   ]
  },
  {
   "cell_type": "code",
   "execution_count": 54,
   "metadata": {},
   "outputs": [],
   "source": [
    " # building the index\n",
    " sims = gensim.similarities.Similarity('./',tf_idf[corpus],\n",
    "                                        num_features=len(dictionary))"
   ]
  },
  {
   "cell_type": "code",
   "execution_count": 89,
   "metadata": {},
   "outputs": [
    {
     "name": "stdout",
     "output_type": "stream",
     "text": [
      "Number of documents: 2\n"
     ]
    }
   ],
   "source": [
    "file2_docs = []\n",
    "\n",
    "# with open ('demo_sentences2.txt') as f:\n",
    "with open ('demo_multiple_docs.txt') as f:\n",
    "    tokens = sent_tokenize(f.read())\n",
    "    for line in tokens:\n",
    "        file2_docs.append(line)\n",
    "\n",
    "print(\"Number of documents:\", len(file2_docs))  \n",
    "for line in file2_docs:\n",
    "    query_doc = [w.lower() for w in word_tokenize(line)]\n",
    "    query_doc_bow = dictionary.doc2bow(query_doc) # update an existing dictionary and create bag of words"
   ]
  },
  {
   "cell_type": "code",
   "execution_count": 99,
   "metadata": {},
   "outputs": [
    {
     "name": "stdout",
     "output_type": "stream",
     "text": [
      "Comparing Result: 0.01 Patton also appointed Conner to the Kentucky Lottery Board and appointed Seth Conner to the Agriculture Development Board, the commission says.\n"
     ]
    }
   ],
   "source": [
    "# perform a similarity query against the corpus\n",
    "query_doc_tf_idf = tf_idf[query_doc_bow]\n",
    "# print(document_number, document_similarity)\n",
    "print('Comparing Result:', sims[query_doc_tf_idf].round(3)[64], file_docs3[64]) "
   ]
  },
  {
   "cell_type": "code",
   "execution_count": 94,
   "metadata": {},
   "outputs": [],
   "source": [
    "# COMPARE ACCURACY"
   ]
  },
  {
   "cell_type": "code",
   "execution_count": 102,
   "metadata": {
    "scrolled": false
   },
   "outputs": [
    {
     "name": "stdout",
     "output_type": "stream",
     "text": [
      "0 Number of documents: 1\n",
      "Comparing Result: 0.6929 0.8400000000000001\n",
      "1 Number of documents: 1\n",
      "Comparing Result: 0.739 0.8500000000000001\n",
      "2 Number of documents: 1\n",
      "Comparing Result: 0.7267 0.96\n",
      "3 Number of documents: 1\n",
      "Comparing Result: 0.8433 0.96\n",
      "4 Number of documents: 1\n",
      "Comparing Result: 0.7903 0.96\n",
      "5 Number of documents: 1\n",
      "Comparing Result: 0.6979 0.8\n",
      "6 Number of documents: 1\n",
      "Comparing Result: 0.7717 0.75\n",
      "7 Number of documents: 1\n",
      "Comparing Result: 0.5433 0.5599999999999999\n",
      "8 Number of documents: 1\n",
      "Comparing Result: 0.8463 0.68\n",
      "9 Number of documents: 1\n",
      "Comparing Result: 0.3922 0.26660000000000006\n",
      "10 Number of documents: 1\n",
      "Comparing Result: 0.6516 0.9199999999999999\n",
      "11 Number of documents: 1\n",
      "Comparing Result: 0.7825 0.76\n",
      "12 Number of documents: 1\n",
      "Comparing Result: 0.6944 0.8400000000000001\n",
      "13 Number of documents: 1\n",
      "Comparing Result: 0.7772 0.8800000000000001\n",
      "14 Number of documents: 1\n",
      "Comparing Result: 0.9303 0.8400000000000001\n",
      "15 Number of documents: 1\n",
      "Comparing Result: 0.6145 1.0\n",
      "16 Number of documents: 1\n",
      "Comparing Result: 0.0081 1.0\n",
      "17 Number of documents: 1\n",
      "Comparing Result: 0.0028 0.68\n",
      "18 Number of documents: 1\n",
      "Comparing Result: 0.0214 1.0\n",
      "19 Number of documents: 1\n",
      "Comparing Result: 0.0048 0.8\n",
      "20 Number of documents: 1\n",
      "Comparing Result: 0.0098 0.6400000000000001\n",
      "21 Number of documents: 1\n",
      "Comparing Result: 0.089 1.0\n",
      "22 Number of documents: 1\n",
      "Comparing Result: 0.0044 0.8800000000000001\n",
      "23 Number of documents: 1\n",
      "Comparing Result: 0.0244 0.7200000000000001\n",
      "24 Number of documents: 1\n",
      "Comparing Result: 0.0031 0.7200000000000001\n",
      "25 Number of documents: 1\n",
      "Comparing Result: 0.002 0.6400000000000001\n",
      "26 Number of documents: 1\n",
      "Comparing Result: 0.0393 0.76\n",
      "27 Number of documents: 1\n",
      "Comparing Result: 0.0215 0.8400000000000001\n",
      "28 Number of documents: 1\n",
      "Comparing Result: 0.0008 0.6000000000000001\n",
      "29 Number of documents: 1\n",
      "Comparing Result: 0.0359 0.7200000000000001\n",
      "30 Number of documents: 2\n",
      "Comparing Result: 0.0 0.6000000000000001\n",
      "31 Number of documents: 1\n",
      "Comparing Result: 0.0 0.6000000000000001\n",
      "32 Number of documents: 1\n",
      "Comparing Result: 0.026 0.96\n",
      "33 Number of documents: 1\n",
      "Comparing Result: 0.0543 0.5\n",
      "34 Number of documents: 1\n",
      "Comparing Result: 0.0 0.45\n",
      "35 Number of documents: 1\n",
      "Comparing Result: 0.0042 0.7000000000000001\n",
      "36 Number of documents: 1\n",
      "Comparing Result: 0.0 0.7000000000000001\n",
      "37 Number of documents: 1\n",
      "Comparing Result: 0.0108 0.6000000000000001\n",
      "38 Number of documents: 1\n",
      "Comparing Result: 0.0103 0.6000000000000001\n",
      "39 Number of documents: 1\n",
      "Comparing Result: 0.0047 0.7334\n",
      "40 Number of documents: 1\n",
      "Comparing Result: 0.0 0.3334\n",
      "41 Number of documents: 1\n",
      "Comparing Result: 0.0021 0.7200000000000001\n",
      "42 Number of documents: 1\n",
      "Comparing Result: 0.0145 0.76\n",
      "43 Number of documents: 1\n",
      "Comparing Result: 0.0004 0.68\n",
      "44 Number of documents: 1\n",
      "Comparing Result: 0.0073 0.76\n",
      "45 Number of documents: 1\n",
      "Comparing Result: 0.0034 0.5599999999999999\n",
      "46 Number of documents: 1\n",
      "Comparing Result: 0.0098 0.75\n",
      "47 Number of documents: 1\n",
      "Comparing Result: 0.004 0.8800000000000001\n",
      "48 Number of documents: 1\n",
      "Comparing Result: 0.0229 0.75\n",
      "49 Number of documents: 1\n",
      "Comparing Result: 0.0129 0.55\n",
      "50 Number of documents: 1\n",
      "Comparing Result: 0.0097 0.75\n",
      "51 Number of documents: 1\n",
      "Comparing Result: 0.0 0.45\n",
      "52 Number of documents: 1\n",
      "Comparing Result: 0.0088 0.76\n",
      "53 Number of documents: 1\n",
      "Comparing Result: 0.0273 0.6400000000000001\n",
      "54 Number of documents: 1\n",
      "Comparing Result: 0.0506 0.76\n",
      "55 Number of documents: 1\n",
      "Comparing Result: 0.0201 0.96\n",
      "56 Number of documents: 1\n",
      "Comparing Result: 0.0286 1.0\n",
      "57 Number of documents: 1\n",
      "Comparing Result: 0.0024 0.96\n",
      "58 Number of documents: 1\n",
      "Comparing Result: 0.0299 0.5599999999999999\n",
      "59 Number of documents: 1\n",
      "Comparing Result: 0.0006 0.96\n",
      "60 Number of documents: 1\n",
      "Comparing Result: 0.0 0.55\n",
      "61 Number of documents: 1\n",
      "Comparing Result: 0.0387 0.55\n",
      "62 Number of documents: 1\n",
      "Comparing Result: 0.0724 0.65\n",
      "63 Number of documents: 1\n",
      "Comparing Result: 0.0055 0.65\n",
      "64 Number of documents: 1\n",
      "Comparing Result: 0.0063 0.5\n",
      "65 Number of documents: 1\n",
      "Comparing Result: 0.0129 0.24\n"
     ]
    }
   ],
   "source": [
    "computed_similarities = []\n",
    "\n",
    "for i, sentence in enumerate(file_docs3):\n",
    "    tokens = sent_tokenize(sentence)\n",
    "    current_doc = []\n",
    "    for line in tokens:\n",
    "        current_doc.append(line)\n",
    "    print(i, \"Number of documents:\", len(current_doc))  \n",
    "    for line in current_doc:\n",
    "        query_doc = [w.lower() for w in word_tokenize(line)]\n",
    "        query_doc_bow = dictionary.doc2bow(query_doc) # update an existing dictionary and create bag of words\n",
    "    # perform a similarity query against the corpus\n",
    "    query_doc_tf_idf = tf_idf[query_doc_bow]\n",
    "    # print(document_number, document_similarity)\n",
    "    print('Comparing Result:', sims[query_doc_tf_idf].round(4)[i], similarities[i]) \n",
    "    computed_similarities.append(sims[query_doc_tf_idf].round(4)[i])"
   ]
  },
  {
   "cell_type": "code",
   "execution_count": 103,
   "metadata": {},
   "outputs": [
    {
     "name": "stdout",
     "output_type": "stream",
     "text": [
      "[0.6929, 0.739, 0.7267, 0.8433, 0.7903, 0.6979, 0.7717, 0.5433, 0.8463, 0.3922, 0.6516, 0.7825, 0.6944, 0.7772, 0.9303, 0.6145, 0.0081, 0.0028, 0.0214, 0.0048, 0.0098, 0.089, 0.0044, 0.0244, 0.0031, 0.002, 0.0393, 0.0215, 0.0008, 0.0359, 0.0, 0.0, 0.026, 0.0543, 0.0, 0.0042, 0.0, 0.0108, 0.0103, 0.0047, 0.0, 0.0021, 0.0145, 0.0004, 0.0073, 0.0034, 0.0098, 0.004, 0.0229, 0.0129, 0.0097, 0.0, 0.0088, 0.0273, 0.0506, 0.0201, 0.0286, 0.0024, 0.0299, 0.0006, 0.0, 0.0387, 0.0724, 0.0055, 0.0063, 0.0129]\n"
     ]
    }
   ],
   "source": [
    "print(computed_similarities)"
   ]
  },
  {
   "cell_type": "code",
   "execution_count": 106,
   "metadata": {},
   "outputs": [
    {
     "data": {
      "text/plain": [
       "0.38617652415868253"
      ]
     },
     "execution_count": 106,
     "metadata": {},
     "output_type": "execute_result"
    }
   ],
   "source": [
    "from sklearn.metrics import mean_squared_error\n",
    "\n",
    "mean_squared_error(similarities, computed_similarities)"
   ]
  },
  {
   "cell_type": "code",
   "execution_count": 107,
   "metadata": {},
   "outputs": [
    {
     "data": {
      "text/plain": [
       "0.9918999997898936"
      ]
     },
     "execution_count": 107,
     "metadata": {},
     "output_type": "execute_result"
    }
   ],
   "source": [
    "from sklearn.metrics import max_error\n",
    "\n",
    "max_error(similarities, computed_similarities)"
   ]
  },
  {
   "cell_type": "code",
   "execution_count": 108,
   "metadata": {},
   "outputs": [
    {
     "data": {
      "text/plain": [
       "-11.094271537930778"
      ]
     },
     "execution_count": 108,
     "metadata": {},
     "output_type": "execute_result"
    }
   ],
   "source": [
    "from sklearn.metrics import r2_score\n",
    "\n",
    "r2_score(similarities, computed_similarities)"
   ]
  }
 ],
 "metadata": {
  "kernelspec": {
   "display_name": "Python 3",
   "language": "python",
   "name": "python3"
  },
  "language_info": {
   "codemirror_mode": {
    "name": "ipython",
    "version": 3
   },
   "file_extension": ".py",
   "mimetype": "text/x-python",
   "name": "python",
   "nbconvert_exporter": "python",
   "pygments_lexer": "ipython3",
   "version": "3.8.2"
  }
 },
 "nbformat": 4,
 "nbformat_minor": 4
}
