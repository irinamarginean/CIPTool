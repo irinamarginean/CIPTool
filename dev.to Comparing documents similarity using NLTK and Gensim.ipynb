{
 "cells": [
  {
   "cell_type": "code",
   "execution_count": 1,
   "metadata": {},
   "outputs": [
    {
     "data": {
      "text/plain": [
       "True"
      ]
     },
     "execution_count": 1,
     "metadata": {},
     "output_type": "execute_result"
    }
   ],
   "source": [
    "import nltk\n",
    "nltk.download('punkt')"
   ]
  },
  {
   "cell_type": "code",
   "execution_count": 2,
   "metadata": {},
   "outputs": [
    {
     "name": "stdout",
     "output_type": "stream",
     "text": [
      "['Mars', 'is', 'approximately', 'half', 'the', 'diameter', 'of', 'Earth', '.']\n"
     ]
    }
   ],
   "source": [
    "from nltk.tokenize import word_tokenize\n",
    "\n",
    "data = \"Mars is approximately half the diameter of Earth.\"\n",
    "print(word_tokenize(data))"
   ]
  },
  {
   "cell_type": "code",
   "execution_count": 3,
   "metadata": {},
   "outputs": [
    {
     "name": "stdout",
     "output_type": "stream",
     "text": [
      "['Mars is a cold desert world.', 'It is half the size of Earth.']\n"
     ]
    }
   ],
   "source": [
    "from nltk.tokenize import sent_tokenize\n",
    "\n",
    "data = \"Mars is a cold desert world. It is half the size of Earth.\"\n",
    "print(sent_tokenize(data))"
   ]
  },
  {
   "cell_type": "code",
   "execution_count": 4,
   "metadata": {},
   "outputs": [
    {
     "name": "stdout",
     "output_type": "stream",
     "text": [
      "Number of documents: 4\n"
     ]
    }
   ],
   "source": [
    "import nltk\n",
    "from nltk.tokenize import word_tokenize, sent_tokenize\n",
    "\n",
    "file_docs = []\n",
    "\n",
    "with open ('demo_multiple_docs2.txt') as f:\n",
    "    tokens = sent_tokenize(f.read())\n",
    "    for line in tokens:\n",
    "        file_docs.append(line)\n",
    "\n",
    "print(\"Number of documents:\", len(file_docs))"
   ]
  },
  {
   "cell_type": "code",
   "execution_count": 5,
   "metadata": {},
   "outputs": [
    {
     "name": "stdout",
     "output_type": "stream",
     "text": [
      "[['hello', ',', 'my', 'name', 'is', 'irina', '.'], ['i', 'study', 'computer', 'science', '.'], ['ham', 'sandwiches', 'from', 'lidl', 'are', 'really', 'tasty', '.'], ['malls', 'are', 'very', 'convenient', 'and', 'a', 'really', 'nice', 'place', 'to', 'shop', '.']]\n"
     ]
    }
   ],
   "source": [
    "gen_docs = [[w.lower() for w in word_tokenize(text)] \n",
    "            for text in file_docs]\n",
    "\n",
    "print(gen_docs)"
   ]
  },
  {
   "cell_type": "code",
   "execution_count": 6,
   "metadata": {},
   "outputs": [
    {
     "name": "stdout",
     "output_type": "stream",
     "text": [
      "{',': 0, '.': 1, 'hello': 2, 'irina': 3, 'is': 4, 'my': 5, 'name': 6, 'computer': 7, 'i': 8, 'science': 9, 'study': 10, 'are': 11, 'from': 12, 'ham': 13, 'lidl': 14, 'really': 15, 'sandwiches': 16, 'tasty': 17, 'a': 18, 'and': 19, 'convenient': 20, 'malls': 21, 'nice': 22, 'place': 23, 'shop': 24, 'to': 25, 'very': 26}\n"
     ]
    }
   ],
   "source": [
    "import gensim\n",
    "\n",
    "dictionary = gensim.corpora.Dictionary(gen_docs)\n",
    "\n",
    "print(dictionary.token2id)"
   ]
  },
  {
   "cell_type": "code",
   "execution_count": 7,
   "metadata": {},
   "outputs": [
    {
     "name": "stdout",
     "output_type": "stream",
     "text": [
      "[[(0, 1), (1, 1), (2, 1), (3, 1), (4, 1), (5, 1), (6, 1)], [(1, 1), (7, 1), (8, 1), (9, 1), (10, 1)], [(1, 1), (11, 1), (12, 1), (13, 1), (14, 1), (15, 1), (16, 1), (17, 1)], [(1, 1), (11, 1), (15, 1), (18, 1), (19, 1), (20, 1), (21, 1), (22, 1), (23, 1), (24, 1), (25, 1), (26, 1)]]\n"
     ]
    }
   ],
   "source": [
    "corpus = [dictionary.doc2bow(gen_doc) for gen_doc in gen_docs]\n",
    "\n",
    "print(corpus)"
   ]
  },
  {
   "cell_type": "code",
   "execution_count": 8,
   "metadata": {},
   "outputs": [
    {
     "name": "stdout",
     "output_type": "stream",
     "text": [
      "[[',', 0.41], ['hello', 0.41], ['irina', 0.41], ['is', 0.41], ['my', 0.41], ['name', 0.41]]\n",
      "[['computer', 0.5], ['i', 0.5], ['science', 0.5], ['study', 0.5]]\n",
      "[['are', 0.21], ['from', 0.43], ['ham', 0.43], ['lidl', 0.43], ['really', 0.21], ['sandwiches', 0.43], ['tasty', 0.43]]\n",
      "[['are', 0.16], ['really', 0.16], ['a', 0.32], ['and', 0.32], ['convenient', 0.32], ['malls', 0.32], ['nice', 0.32], ['place', 0.32], ['shop', 0.32], ['to', 0.32], ['very', 0.32]]\n"
     ]
    }
   ],
   "source": [
    "import numpy as np\n",
    "\n",
    "tf_idf = gensim.models.TfidfModel(corpus)\n",
    "for doc in tf_idf[corpus]:\n",
    "    print([[dictionary[id], np.around(freq, decimals=2)] for id, freq in doc])"
   ]
  },
  {
   "cell_type": "code",
   "execution_count": 9,
   "metadata": {},
   "outputs": [],
   "source": [
    " # building the index\n",
    " sims = gensim.similarities.Similarity('./',tf_idf[corpus],\n",
    "                                        num_features=len(dictionary))"
   ]
  },
  {
   "cell_type": "code",
   "execution_count": 10,
   "metadata": {},
   "outputs": [
    {
     "name": "stdout",
     "output_type": "stream",
     "text": [
      "Number of documents: 1\n"
     ]
    }
   ],
   "source": [
    "file2_docs = []\n",
    "\n",
    "# with open ('demo_sentences2.txt') as f:\n",
    "with open ('demo_multiple_docs.txt') as f:\n",
    "    tokens = sent_tokenize(f.read())\n",
    "    for line in tokens:\n",
    "        file2_docs.append(line)\n",
    "\n",
    "print(\"Number of documents:\",len(file2_docs))  \n",
    "for line in file2_docs:\n",
    "    query_doc = [w.lower() for w in word_tokenize(line)]\n",
    "    query_doc_bow = dictionary.doc2bow(query_doc) # update an existing dictionary and create bag of words"
   ]
  },
  {
   "cell_type": "code",
   "execution_count": 11,
   "metadata": {},
   "outputs": [
    {
     "name": "stdout",
     "output_type": "stream",
     "text": [
      "Comparing Result: [0.5477226 0.        0.        0.       ]\n"
     ]
    }
   ],
   "source": [
    "# perform a similarity query against the corpus\n",
    "query_doc_tf_idf = tf_idf[query_doc_bow]\n",
    "# print(document_number, document_similarity)\n",
    "print('Comparing Result:', sims[query_doc_tf_idf]) "
   ]
  },
  {
   "cell_type": "code",
   "execution_count": 12,
   "metadata": {},
   "outputs": [
    {
     "name": "stdout",
     "output_type": "stream",
     "text": [
      "0.5477226\n"
     ]
    }
   ],
   "source": [
    "sum_of_sims =(np.sum(sims[query_doc_tf_idf], dtype=np.float32))\n",
    "print(sum_of_sims)"
   ]
  },
  {
   "cell_type": "code",
   "execution_count": 13,
   "metadata": {},
   "outputs": [
    {
     "name": "stdout",
     "output_type": "stream",
     "text": [
      "Average similarity float: 0.1369306445121765\n",
      "Average similarity percentage: 13.693064451217651\n",
      "Average similarity rounded percentage: 14\n"
     ]
    }
   ],
   "source": [
    "percentage_of_similarity = round(float((sum_of_sims / len(file_docs)) * 100))\n",
    "\n",
    "print(f'Average similarity float: {float(sum_of_sims / len(file_docs))}')\n",
    "print(f'Average similarity percentage: {float(sum_of_sims / len(file_docs)) * 100}')\n",
    "print(f'Average similarity rounded percentage: {percentage_of_similarity}')"
   ]
  },
  {
   "cell_type": "code",
   "execution_count": 14,
   "metadata": {},
   "outputs": [
    {
     "name": "stdout",
     "output_type": "stream",
     "text": [
      "Comparing Result: [0.5477226 0.        0.        0.       ]\n",
      "avg: 0.1369306445121765\n"
     ]
    }
   ],
   "source": [
    "avg_sims = [] # array of averages\n",
    "\n",
    "# for line in query documents\n",
    "for line in file2_docs:\n",
    "    # tokenize words\n",
    "    query_doc = [w.lower() for w in word_tokenize(line)]\n",
    "    # create bag of words\n",
    "    query_doc_bow = dictionary.doc2bow(query_doc)\n",
    "    # find similarity for each document\n",
    "    query_doc_tf_idf = tf_idf[query_doc_bow]\n",
    "    # print (document_number, document_similarity)\n",
    "    print('Comparing Result:', sims[query_doc_tf_idf]) \n",
    "    # calculate sum of similarities for each query doc\n",
    "    sum_of_sims =(np.sum(sims[query_doc_tf_idf], dtype=np.float32))\n",
    "    # calculate average of similarity for each query doc\n",
    "    avg = sum_of_sims / len(file_docs)\n",
    "    # print average of similarity for each query doc\n",
    "    print(f'avg: {sum_of_sims / len(file_docs)}')\n",
    "    # add average values into array\n",
    "    avg_sims.append(avg)  \n",
    "    # calculate total average\n",
    "    total_avg = np.sum(avg_sims, dtype=np.float)\n",
    "    # round the value and multiply by 100 to format it as percentage\n",
    "    percentage_of_similarity = round(float(total_avg) * 100)\n",
    "    # if percentage is greater than 100\n",
    "    # that means documents are almost same\n",
    "    if percentage_of_similarity >= 100:\n",
    "        percentage_of_similarity = 100"
   ]
  },
  {
   "cell_type": "code",
   "execution_count": 15,
   "metadata": {},
   "outputs": [],
   "source": []
  },
  {
   "cell_type": "code",
   "execution_count": 16,
   "metadata": {},
   "outputs": [
    {
     "data": {
      "text/html": [
       "<div>\n",
       "<style scoped>\n",
       "    .dataframe tbody tr th:only-of-type {\n",
       "        vertical-align: middle;\n",
       "    }\n",
       "\n",
       "    .dataframe tbody tr th {\n",
       "        vertical-align: top;\n",
       "    }\n",
       "\n",
       "    .dataframe thead th {\n",
       "        text-align: right;\n",
       "    }\n",
       "</style>\n",
       "<table border=\"1\" class=\"dataframe\">\n",
       "  <thead>\n",
       "    <tr style=\"text-align: right;\">\n",
       "      <th></th>\n",
       "      <th>Similarity</th>\n",
       "      <th>Sentence 1</th>\n",
       "      <th>Sentence 2</th>\n",
       "    </tr>\n",
       "  </thead>\n",
       "  <tbody>\n",
       "    <tr>\n",
       "      <th>0</th>\n",
       "      <td>4.20</td>\n",
       "      <td>In Nigeria, Chevron has been accused by the Al...</td>\n",
       "      <td>In Nigeria, the whole ijaw indigenous showed C...</td>\n",
       "    </tr>\n",
       "    <tr>\n",
       "      <th>1</th>\n",
       "      <td>4.25</td>\n",
       "      <td>I know that in France they have had whole herd...</td>\n",
       "      <td>I know that in France, the principle of slaugh...</td>\n",
       "    </tr>\n",
       "    <tr>\n",
       "      <th>2</th>\n",
       "      <td>4.80</td>\n",
       "      <td>Unfortunately, the ultimate objective of a Eur...</td>\n",
       "      <td>Unfortunately the final objective of a Europea...</td>\n",
       "    </tr>\n",
       "    <tr>\n",
       "      <th>3</th>\n",
       "      <td>4.80</td>\n",
       "      <td>The right of a government arbitrarily to set a...</td>\n",
       "      <td>The right for a government to draw aside its c...</td>\n",
       "    </tr>\n",
       "    <tr>\n",
       "      <th>4</th>\n",
       "      <td>4.80</td>\n",
       "      <td>The right of a government arbitrarily to set a...</td>\n",
       "      <td>The right for a government to dismiss arbitrar...</td>\n",
       "    </tr>\n",
       "    <tr>\n",
       "      <th>...</th>\n",
       "      <td>...</td>\n",
       "      <td>...</td>\n",
       "      <td>...</td>\n",
       "    </tr>\n",
       "    <tr>\n",
       "      <th>61</th>\n",
       "      <td>2.75</td>\n",
       "      <td>Mr Morse is charged with assault and Mr Darvis...</td>\n",
       "      <td>His partner Bijan Darvish is charged with fili...</td>\n",
       "    </tr>\n",
       "    <tr>\n",
       "      <th>62</th>\n",
       "      <td>3.25</td>\n",
       "      <td>The mock explosion, the first event in the dri...</td>\n",
       "      <td>The mock explosion of a radioactive \"dirty bom...</td>\n",
       "    </tr>\n",
       "    <tr>\n",
       "      <th>63</th>\n",
       "      <td>3.25</td>\n",
       "      <td>The third appointment was to a new job, execut...</td>\n",
       "      <td>Bruce N. Hawthorne, 53, was named executive vi...</td>\n",
       "    </tr>\n",
       "    <tr>\n",
       "      <th>64</th>\n",
       "      <td>2.50</td>\n",
       "      <td>The commission dropped charges that Patton imp...</td>\n",
       "      <td>Patton also appointed Conner to the Kentucky L...</td>\n",
       "    </tr>\n",
       "    <tr>\n",
       "      <th>65</th>\n",
       "      <td>1.20</td>\n",
       "      <td>Revenue rose 3.9 percent, to $1.63 billion fro...</td>\n",
       "      <td>The McLean, Virginia-based company said newspa...</td>\n",
       "    </tr>\n",
       "  </tbody>\n",
       "</table>\n",
       "<p>66 rows × 3 columns</p>\n",
       "</div>"
      ],
      "text/plain": [
       "    Similarity                                         Sentence 1  \\\n",
       "0         4.20  In Nigeria, Chevron has been accused by the Al...   \n",
       "1         4.25  I know that in France they have had whole herd...   \n",
       "2         4.80  Unfortunately, the ultimate objective of a Eur...   \n",
       "3         4.80  The right of a government arbitrarily to set a...   \n",
       "4         4.80  The right of a government arbitrarily to set a...   \n",
       "..         ...                                                ...   \n",
       "61        2.75  Mr Morse is charged with assault and Mr Darvis...   \n",
       "62        3.25  The mock explosion, the first event in the dri...   \n",
       "63        3.25  The third appointment was to a new job, execut...   \n",
       "64        2.50  The commission dropped charges that Patton imp...   \n",
       "65        1.20  Revenue rose 3.9 percent, to $1.63 billion fro...   \n",
       "\n",
       "                                           Sentence 2  \n",
       "0   In Nigeria, the whole ijaw indigenous showed C...  \n",
       "1   I know that in France, the principle of slaugh...  \n",
       "2   Unfortunately the final objective of a Europea...  \n",
       "3   The right for a government to draw aside its c...  \n",
       "4   The right for a government to dismiss arbitrar...  \n",
       "..                                                ...  \n",
       "61  His partner Bijan Darvish is charged with fili...  \n",
       "62  The mock explosion of a radioactive \"dirty bom...  \n",
       "63  Bruce N. Hawthorne, 53, was named executive vi...  \n",
       "64  Patton also appointed Conner to the Kentucky L...  \n",
       "65  The McLean, Virginia-based company said newspa...  \n",
       "\n",
       "[66 rows x 3 columns]"
      ]
     },
     "execution_count": 16,
     "metadata": {},
     "output_type": "execute_result"
    }
   ],
   "source": []
  },
  {
   "cell_type": "code",
   "execution_count": 18,
   "metadata": {},
   "outputs": [
    {
     "name": "stdout",
     "output_type": "stream",
     "text": [
      "['In Nigeria, Chevron has been accused by the All-Ijaw indigenous people of instigating violence against them and actually paying Nigerian soldiers to shoot protesters at the Warri naval base.', 'I know that in France they have had whole herd slaughter and this does not seem to be the best way forward.', 'Unfortunately, the ultimate objective of a European Constitution would be precisely the opposite, and so, of course, we cannot vote for it.', 'The right of a government arbitrarily to set aside its own constitution is the defining characteristic of a tyranny.', 'The right of a government arbitrarily to set aside its own constitution is the defining characteristic of a tyranny.', 'But other sources close to the sale said Vivendi was keeping the door open to further bids and hoped to see bidders interested in individual assets team up.', 'Micron has declared its first quarterly profit for three years.', 'The fines are part of failed Republican efforts to force or entice the Democrats to return.', 'The American Anglican Council, which represents Episcopalian conservatives, said it will seek authorization to create a separate group.', 'Amgen shares gained 93 cents, or 1.45 percent, to $65.05 in afternoon trading on Nasdaq.', 'U.S. prosecutors have arrested more than 130 individuals and have seized more than $17 million in a continuing crackdown on Internet fraud and abuse.', 'Chavez said investigators feel confident they\\'ve got \"at least one of the fires resolved in that regard.\"', 'Authorities said the scientist properly quarantined himself at home after he developed SARS symptoms Dec. 10.', 'The man accused of using fake grenades to commandeer a Cuban plane that landed in Key West in April was sentenced Friday to 20 years in prison.', 'Jim Williams, director of the US-VISIT project, said that by the middle of November, many arriving passengers in Atlanta will be fingerprinted and photographed.', \"The Episcopal Church ''is alienating itself from the Anglican Communion,'' said the Very Rev. Peter Karanja, provost of the All Saints Cathedral, in Nairobi.\", 'Counties with population declines will be Vermillion, Posey and Madison.', 'Swartz, indicted in February, had argued that New Hampshire was the wrong place to charge him.', 'The last time the survey was conducted, in 1995, those numbers matched.', 'Higher courts have ruled that the tablets broke the constitutional separation of church and state.', 'They were at Raffles Hospital over the weekend for further evaluation.', 'When the bomb exploded at the Casa de Espana, customers were eating dinner and playing bingo.', \"Plofsky said the commission won't investigate because the three-year statute of limitations has expired.\", \"In two weeks, he'll probably send out Peace Rules in the Preakness.\", 'If convicted of the spying charges, he could face the death penalty.', \"Entrenched interests are positioning themselves to control the network's chokepoints and they are lobbying the FCC to aid and abet them.\", 'But church members and observers say they expect that the decision could be problematic for many Episcopalians.', 'Squyres is principal investigator for the Athena payload - a collection of science instruments carted by each rover.', 'The military said it had killed 12 rebels and captured nine in the campaign so far, for the loss of six soldiers wounded.', \"The new sensor -- dubbed CANARY for ''cellular analysis and notification of antigen risks and yields'' -- hijacks this natural process with two important changes.\", \"One, Fort Carson-based Sgt. Ernest Bucklew, 33, had been on his way home to attend his mother's funeral in Pennsylvania.\", 'Police launched an international hunt for Shevaun Pennington after she ran away with 31-year-old Toby Studabaker Saturday.', 'Lawyers and others familiar with the federal investigation say it remains focused on Campbell, though prosecutors declined to discuss the probe.', 'The Dow Jones industrial average .DJI was off 58.69 points, or 0.64 percent, at 9,137.86.', 'Peace Rules defeated Funny Cide in the Louisiana Derby.', 'Waksal has pleaded guilty to securities fraud and is to be sentenced next week.', 'He allowed two runs in seven innings and struck out six.', 'Still, he said, \"I\\'m absolutely confident we\\'re going to have a bill.\"', 'Boeing said the final agreement is expected to be signed during the next few weeks.', 'Shares in EDS closed on Thursday at $18.51, a gain of 6 cents.', 'Nationally, the federal Centers for Disease Control and Prevention recorded 4,156 cases of West Nile, including 284 deaths.', \"A divided Supreme Court ruled Monday that Congress can force the nation's public libraries to equip computers with anti-pornography filters.\", 'The weakness exists in the way that VBA looks at the properties of documents passed to it when the document is opened by a host application.', 'Of 24 million phoned-in votes, 50.28 percent were for Studdard, putting him 130,000 votes ahead of Aiken.', 'However, we have decided to opt for the European consortium\\'s engine as the best overall solution and due to the substantial price efforts made\".', \"The Food and Drug Administration rejected ImClone's 2001 application to sell Erbitux, citing shoddy research.\", 'Critics say the law violates civil liberties, something House Judiciary Committee Chairman James Sensenbrenner, R-Wis., says he is sensitive to.', 'The Dodgers won their sixth consecutive game their longest win streak since 2001 as they edged Colorado, 3-2, Wednesday in front of a crowd of 25,332 at Dodger Stadium.', 'So far, they have searched Pennsylvania, Ohio, Michigan, Illinois and Indiana, authorities in those state said.', 'The 30-year bond US30YT=RR firmed 31/32, taking its yield to 4.16 percent -- another record low -- from 4.22 percent.', \"On Thursday, a Washington Post article argued that a 50 basis point cut from the Fed was more likely, contrary to the Wall Street Journal's line.\", 'Mr. Heatley, who suffered a broken jaw and torn knee ligaments, faces several charges.', 'Lay had argued that handing over the documents would be a violation of his Fifth Amendment rights against self-incrimination.', 'Strayhorn said it was the first time in Texas history a comptroller had not certified the appropriations act.', 'Excluding the charges, analysts, on average, expected a loss of 11 cents a share.', 'Security experts are warning that a new mass-mailing worm is spreading widely across the Internet, sometimes posing as e-mail from the Microsoft founder.', 'Approval of the Minutes of the previous sitting', '(Parliament accepted the oral amendment)', 'It estimated on Thursday it has a 51 percent market share in Europe.', 'The Senate Banking Committee is scheduled to hold a hearing on Tuesday where Donaldson is scheduled to testify on hedge and mutual funds.', 'These men \"are entitled to respect for their private lives,\" Kennedy said.', 'Mr Morse is charged with assault and Mr Darvish is charged with filing a false report.', 'The mock explosion, the first event in the drill, occurred in a car in industrial south Seattle.', 'The third appointment was to a new job, executive vice president and chief staff officer.', \"The commission dropped charges that Patton improperly appointed Conner to the Kentucky Lottery Board and that he improperly appointed Conner's then-husband, Seth, to the Agriculture Development Board.\", 'Revenue rose 3.9 percent, to $1.63 billion from $1.57 billion.']\n"
     ]
    }
   ],
   "source": []
  },
  {
   "cell_type": "code",
   "execution_count": 19,
   "metadata": {},
   "outputs": [
    {
     "name": "stdout",
     "output_type": "stream",
     "text": [
      "Number of documents: 66\n"
     ]
    }
   ],
   "source": []
  },
  {
   "cell_type": "code",
   "execution_count": null,
   "metadata": {},
   "outputs": [],
   "source": []
  }
 ],
 "metadata": {
  "kernelspec": {
   "display_name": "Python 3",
   "language": "python",
   "name": "python3"
  },
  "language_info": {
   "codemirror_mode": {
    "name": "ipython",
    "version": 3
   },
   "file_extension": ".py",
   "mimetype": "text/x-python",
   "name": "python",
   "nbconvert_exporter": "python",
   "pygments_lexer": "ipython3",
   "version": "3.8.2"
  }
 },
 "nbformat": 4,
 "nbformat_minor": 4
}
